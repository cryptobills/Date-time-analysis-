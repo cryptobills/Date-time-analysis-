{
  "nbformat": 4,
  "nbformat_minor": 0,
  "metadata": {
    "colab": {
      "name": "Data cleaning linkedin.ipynb",
      "provenance": [],
      "authorship_tag": "ABX9TyMsQORZSwH2FXEpg/CpRHhT",
      "include_colab_link": true
    },
    "kernelspec": {
      "name": "python3",
      "display_name": "Python 3"
    }
  },
  "cells": [
    {
      "cell_type": "markdown",
      "metadata": {
        "id": "view-in-github",
        "colab_type": "text"
      },
      "source": [
        "<a href=\"https://colab.research.google.com/github/cryptobills/Date-time-analysis-/blob/main/Data_cleaning_linkedin.ipynb\" target=\"_parent\"><img src=\"https://colab.research.google.com/assets/colab-badge.svg\" alt=\"Open In Colab\"/></a>"
      ]
    },
    {
      "cell_type": "code",
      "metadata": {
        "id": "0afIKWOIrzhF"
      },
      "source": [
        "import pandas as pd\n",
        "import numpy as np\n",
        "import matplotlib.pyplot as plt\n",
        "from datetime import datetime\n",
        "import datetime as dt\n",
        "%matplotlib inline"
      ],
      "execution_count": 19,
      "outputs": []
    },
    {
      "cell_type": "code",
      "metadata": {
        "id": "ZJYe9hb3sDku",
        "outputId": "194d893e-f76f-4311-bad5-2aa111fdc7b0",
        "colab": {
          "resources": {
            "http://localhost:8080/nbextensions/google.colab/files.js": {
              "data": "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",
              "ok": true,
              "headers": [
                [
                  "content-type",
                  "application/javascript"
                ]
              ],
              "status": 200,
              "status_text": ""
            }
          },
          "base_uri": "https://localhost:8080/",
          "height": 109
        }
      },
      "source": [
        "from google.colab import files\n",
        "files.upload()"
      ],
      "execution_count": 3,
      "outputs": [
        {
          "output_type": "display_data",
          "data": {
            "text/html": [
              "\n",
              "     <input type=\"file\" id=\"files-fffc3b7b-4f9f-411b-8cf9-62bd84fba8dc\" name=\"files[]\" multiple disabled\n",
              "        style=\"border:none\" />\n",
              "     <output id=\"result-fffc3b7b-4f9f-411b-8cf9-62bd84fba8dc\">\n",
              "      Upload widget is only available when the cell has been executed in the\n",
              "      current browser session. Please rerun this cell to enable.\n",
              "      </output>\n",
              "      <script src=\"/nbextensions/google.colab/files.js\"></script> "
            ],
            "text/plain": [
              "<IPython.core.display.HTML object>"
            ]
          },
          "metadata": {
            "tags": []
          }
        },
        {
          "output_type": "stream",
          "text": [
            "Saving Killa.xlsx to Killa.xlsx\n"
          ],
          "name": "stdout"
        },
        {
          "output_type": "execute_result",
          "data": {
            "text/plain": [
              "{'Killa.xlsx': b'PK\\x03\\x04\\x14\\x00\\x00\\x00\\x08\\x00\\x00\\x00?\\x00a]I:O\\x01\\x00\\x00\\x8f\\x04\\x00\\x00\\x13\\x00\\x00\\x00[Content_Types].xml\\xad\\x94\\xcbn\\xc20\\x10E\\xf7\\xfd\\x8a\\xc8\\xdb*1tQU\\x15\\x81E\\x1f\\xcb\\x16\\xa9\\xf4\\x03\\\\{B,\\x1c\\xdb\\xf2\\x0c\\x14\\xfe\\xbe\\x93\\xf0P[Q\\xa0\\x82M\\xacd\\xee\\xdcs\\xc7\\x8e<\\x18-\\x1b\\x97- \\xa1\\r\\xbe\\x14\\xfd\\xa2\\'2\\xf0:\\x18\\xeb\\xa7\\xa5x\\x9f<\\xe7w\"CR\\xde(\\x17<\\x94b\\x05(F\\xc3\\xab\\xc1d\\x15\\x013n\\xf6X\\x8a\\x9a(\\xdeK\\x89\\xba\\x86Fa\\x11\"x\\xaeT!5\\x8a\\xf85MeTz\\xa6\\xa6 oz\\xbd[\\xa9\\x83\\'\\xf0\\x94S\\xeb!\\x86\\x83G\\xa8\\xd4\\xdcQ\\xf6\\xb4\\xe4\\xcf\\xeb \\t\\x1c\\x8a\\xeca-lY\\xa5P1:\\xab\\x15q].\\xbc\\xf9E\\xc97\\x84\\x82;;\\r\\xd66\\xe25\\x0b\\x84\\xdcKh+\\x7f\\x036}\\xaf\\xbc3\\xc9\\x1a\\xc8\\xc6*\\xd1\\x8bjX%M\\xd0\\xe3\\x14\"J\\xd6\\x17\\x87]\\xf6\\xc4\\x0cUe5\\xb0\\xc7\\xbc\\xe1\\x96\\x02\\xda@\\x06L\\x1e\\xd9\\x12\\x12Y\\xd8e>\\xc8\\xd6!\\xc1\\xff\\xe1\\xdb=j\\xbbO$.\\x9dDZ9\\xc0\\xb3G\\xc5\\x98@\\x19\\xac\\x01\\xa8q\\xc5\\xda\\xf4\\x08\\x99\\xf8\\x7f\\x82\\xf5\\xb3\\x7f6\\xbf\\xb39\\x02\\xfc\\x0ci\\xf6\\x11\\xc2\\xec\\xd2\\xc3\\xb6k\\xd1(\\xebO\\xe0wb\\x94\\xddr\\xfe\\xd4?\\x83\\xec\\xfc\\x8f\\x1dy\\xad\\x12\\x987J|\\r\\\\\\xfc\\xe4\\xbf{os\\xc8\\xee>\\x19~\\x01PK\\x03\\x04\\x14\\x00\\x00\\x00\\x08\\x00\\x00\\x00?\\x00\\xf2\\x9fI\\xda\\xe9\\x00\\x00\\x00K\\x02\\x00\\x00\\x0b\\x00\\x00\\x00_rels/.rels\\xad\\x92\\xc1N\\xc30\\x0c@\\xef|E\\xe4\\xfb\\x9anH\\x08\\xa1\\xa5\\xbb \\xa4\\xdd&4>\\xc0$n\\x1b\\xb5\\x8d\\xa3\\xc4\\x83\\xee\\xef\\x89\\x90@\\x0c\\x8di\\x07\\x8eq\\xec\\xe7g\\xcb\\xeb\\xcd<\\x8d\\xea\\x8dR\\xf6\\x1c\\x0c,\\xab\\x1a\\x14\\x05\\xcb\\xce\\x87\\xce\\xc0\\xcb\\xfeiq\\x0f*\\x0b\\x06\\x87#\\x072p\\xa4\\x0c\\x9b\\xe6f\\xfdL#J\\xa9\\xc9\\xbd\\x8fY\\x15H\\xc8\\x06z\\x91\\xf8\\xa0u\\xb6=M\\x98+\\x8e\\x14\\xcaO\\xcbiB)\\xcf\\xd4\\xe9\\x88v\\xc0\\x8e\\xf4\\xaa\\xae\\xeft\\xfa\\xc9\\x80\\xe6\\x84\\xa9\\xb6\\xce@\\xda\\xba%\\xa8\\xfd1\\xd25ln[o\\xe9\\x91\\xeda\\xa2 gZ\\xfc\\xca(dL\\x1d\\x89\\x81y\\xd4\\xef\\x9c\\x86W\\xe6\\xa1*P\\xd0\\xe7]V\\xd7\\xbb\\xfc=\\xa7\\x9eH\\xd0\\xa1\\xa0\\xb6\\x9ch\\x11S\\xa9N\\xe2\\xcbZ\\xbfu\\x1c\\xdb]\\t\\xe7\\xcf\\x8cKB\\xb7\\xff\\xb9\\x1c\\x9a\\x85\\x82#wY\\tc\\xfc2\\xd2\\'7\\xd0|\\x00PK\\x03\\x04\\x14\\x00\\x00\\x00\\x08\\x00\\x00\\x00?\\x00Du[\\xf0\\xe8\\x00\\x00\\x00\\xb9\\x02\\x00\\x00\\x1a\\x00\\x00\\x00xl/_rels/workbook.xml.rels\\xad\\x92\\xc1j\\xc30\\x10D\\xef\\xfd\\n\\xb1\\xf7Zv\\x12J)\\x91s)\\x85\\\\\\xdb\\xf4\\x03\\x84\\xb4\\xb6LlIh\\xb7i\\xfd\\xf7\\x11\\tM\\x1d\\x08\\xa1\\x07\\x9f\\xc4\\x8c\\xd8\\x99\\x07\\xbb\\xeb\\xcd\\xcf\\xd0\\x8b\\x03&\\xea\\x82WP\\x15%\\x08\\xf4&\\xd8\\xce\\xb7\\n>wo\\x8f\\xcf \\x88\\xb5\\xb7\\xba\\x0f\\x1e\\x15\\x8cH\\xb0\\xa9\\x1f\\xd6\\xef\\xd8k\\xce3\\xe4\\xbaH\"\\x87xR\\xe0\\x98\\xe3\\x8b\\x94d\\x1c\\x0e\\x9a\\x8a\\x10\\xd1\\xe7\\x9f&\\xa4As\\x96\\xa9\\x95Q\\x9b\\xbdnQ.\\xca\\xf2I\\xa6i\\x06\\xd4W\\x99bk\\x15\\xa4\\xad\\xad@\\xec\\xc6\\x88\\xff\\xc9\\x0eM\\xd3\\x19|\\r\\xe6k@\\xcf7*\\xe4wH{r\\x88\\x9cCuj\\x91\\x15\\\\,\\x92\\xa7\\xa7*r*\\xc8\\xdb0\\x8b9a8\\xcf\\xe2\\x1f\\xc8I\\x9e\\xcd\\xbb\\x0c\\xcb9\\x19\\x88\\xc7>/\\xf4\\x02q\\xd6\\xf7\\xeaW\\xb3\\xd6;\\x9d\\xd0~p\\xca\\xd76\\xa5\\x98\\xda\\xbf0\\xf2\\xea\\xe2\\xea#PK\\x03\\x04\\x14\\x00\\x00\\x00\\x08\\x00\\x00\\x00?\\x00\\x9fg~b\\xea\\t\\x00\\x00J?\\x00\\x00\\x18\\x00\\x00\\x00xl/worksheets/sheet1.xml\\x8d\\x9bKo#\\xc9\\x11\\x84\\xef\\xfe\\x15\\x04\\xef;\\xea\\xac\\xae\\xe7@\\xd2b\\xab\\x17\\x8b\\xf5\\xc1\\x80\\xe1\\xd7\\x9d#\\xb5F\\xc2J\\xa4@rg\\xec\\x7foJ\\xe3\\x1dTDe\\xc2u\\x93\\x14\\xac\\xcef\\x97\\xf8!\\xa3\\x18y\\xfd\\xe3\\xbf_\\x9e7_\\xd6\\xe3\\xe9\\xe9\\xb0\\xbf\\xd9\\xca\\x87i\\xbbY\\xf7w\\x87\\xfb\\xa7\\xfd\\xe7\\x9b\\xed?\\xff\\xf1\\xcb\\x0fy\\xbb9\\x9dw\\xfb\\xfb\\xdd\\xf3a\\xbf\\xdel\\xff\\xb3\\x9e\\xb6?\\xde\\xfe\\xe9\\xfa\\xeb\\xe1\\xf8\\xdb\\xe9q]\\xcf\\x9b\\xcb\\x05\\xf6\\xa7\\x9b\\xed\\xe3\\xf9\\xfc\\xfa\\xf1\\xea\\xeat\\xf7\\xb8\\xbe\\xecN\\x1f\\x0e\\xaf\\xeb\\xfe\\xa2<\\x1c\\x8e/\\xbb\\xf3\\xe5\\xd7\\xe3\\xe7\\xab\\xd3\\xebq\\xdd\\xdd\\xbf/zy\\xber\\xd3\\x14\\xaf^vO\\xfb\\xed\\xb7+|<\\x8e\\\\\\xe3\\xf0\\xf0\\xf0t\\xb7\\xfe|\\xb8\\xfb\\xfde\\xdd\\x9f\\xbf]\\xe4\\xb8>\\xef\\xce\\x97\\xdb?=>\\xbd\\x9e\\xb6\\xb7\\xd7\\xf7O\\x17\\xed\\xed\\xfdl\\x8e\\xeb\\xc3\\xcd\\xf6\\'\\xf9\\xb8\\x88\\xcb\\xdb\\xab\\xdb\\xeb\\xf7\\xda\\xffzZ\\xbf\\x9e\\x9a\\x9f7\\xe7\\xdd\\xa7\\xbf\\xaf\\xcf\\xeb\\xddy\\xbd\\xbf<\\x81\\xed\\xe6\\xed\\xad}:\\x1c~{\\x13\\xff|\\xf9\\xd3\\xf4\\xb6\\xf4\\xaa[\\xfb\\xcb\\xfbm\\xfd\\xf5\\xb8\\xb9_\\x1fv\\xbf?\\x9f\\xffv\\xf8\\xfa\\xeb\\xfa\\xf4\\xf9\\xf1|\\xb9H\\xf8^\\xed\\xe7\\xddyw{}<|\\xdd\\x1c\\xdf/~z\\xdd\\xbd=-\\xf98_\\xee\\xf4\\xee\\xed\\x8f?\\xbd\\xfd\\xf5]\\xbb\\xac|\\xbb\\xff/\\xb7\\xd3\\xf5\\xd5\\x97K\\xc9\\xbb\\xff\\xbd\\xa2\\xf6\\xaf\\x10|\\xc5\\xd2\\xbf\\xc2}\\x7f\\xc5\\xd5\\xa5\\xfa\\xf7[p\\xea-\\xb8f\\xe1L\\xc5[Mf\\xba\\xb5\\xa5U]Hz\\xd1Y-:7K=\\x15\\x9d\\xa1(\\xbf\\xdb\\x19\\x8af\\xbd\\xa8W\\x8b\\xfafi\\xa0\\xa2\\x1e\\x8a:*\\xea\\xa1h\\xd1\\x8b\\x06\\xb5hh\\x96F*\\x1a\\xa0(=\\xfc\\xa5U]\\x9c\\xf4\\xa2Q-\\x1a\\x9b\\xa5\\x89\\x8aF(J\\x0f\\x7f\\x89PT\\xf4\\xa2I-\\x9a\\x9a\\xa5\\x99\\x8a&(J\\x0f\\x7fIP\\xd4\\xf8\\xef\\xcdj\\xd1\\xdc,-T4CQz\\xf8K\\x86\\xa2\\xb3^\\xb4\\xa8EK{a\\xfe\\xc0\\x828\\xd3\\xd3_\\nT\\xf5zU\\x99tXL\\xed\\xa5\\x85A\\x01\\xea\\x9c\\x99\\x12\\x13T\\x0eFe\\x03S\\xc0\\x1f\\xc7\\x95A\\x9d\\x0bW\\x96\\x91\\x8f\\xac\\xe8t\\x12D\\x10W\\x06\\xd53\\xa0@v1\\x1a\\x95uD\\tp\\x88!Ej\\xc7d\\xc0T4\\xd8(:\\xa7\\x04`\\xc4\\xa4B\\xd53\\xaa@6?\\xc1\\xa2\\xc3J\\x80H\\x8c+T=\\xf3J\\x10X\\xd6>\\xeb\\xc4\\x12\\xc0\\x123\\x0bU\\xcf\\xd0\\x928\\xb4\\xcf:\\xb6\\x04\\xd8\\xc4\\xe0B\\xd53\\xb9$\\r\\xed\\xb3\\xce.\\x01@1\\xbdP\\xf5\\x8c/\\xc9C\\xfb\\xac\\x03L\\x00C]\\xcb\\x01\\x08\\xf3\\x8c0\\\\l}\\x9e\\x9d\\xce0\\x07\\x18b\\x86\\x81*\\x9e\\x19\\x86\\x8b\\xad}v:\\xc3\\x1c`\\x88\\x19\\x06\\xaaxf\\x18.\\xb6\\xf6\\xd9\\x19\\x1d\\x16`\\xa8\\xeb\\xb1\\x80a\\xa1k\\xb2\\xdc\\xc8>;\\x9da\\x0e0\\xc4\\x0c\\x03U\\x023\\xcc\\r\\xb5ZNg\\x98\\xc3\\x96\\x89+#\\xe1\\x98a\\xb88\\x1a\\xfd\\x96\\xd3\\x19\\xe6\\x10C\\\\\\x19\\x18\\x16\\x98a\\xb88\\x19M\\x97\\xd3\\x19\\xe6\\x00C\\xcc0P%0\\xc3h\\xb1\\xb5\\xcf:\\xc3\\x1c`\\x88\\x19\\x06\\xaa\\x04f\\x18.6\\xf7Yg\\x98\\x03\\x0c1\\xc3@\\x95\\xc0\\x0c\\xc3\\xc5\\xe6\\xe7Yg\\x98k1\\xc4\\xde\\xa4\\x82*\\x81\\x19\\xe6\\xca\\xc8\\xe7y\\xd6\\x196\\xb7\\x18b\\x83RA\\x95\\xc0\\x0c\\x03\\xd9%\\xa3\\xd9\\x9du\\x86\\xcd-\\x86\\xd8\\xa5TP%0\\xc3\\xe6\\xa1>l\\xd6\\x196\\x83Md\\x86\\x81*\\x91\\x196\\x0f\\xf5a\\xb3a\\x15[\\x0c\\xb1_\\xa9\\xa0J\\xec\\xdc\"0,\\x19]\\xfe\\xac3ln1\\xc4\\xa6\\xa5\\x82*\\x91\\x196\\x0f\\xf5a\\xb3\\xce\\xb0\\xb9\\xc5\\x10;\\x97:c\\x97\\xc6\\x0c\\x03\\xd9\\xdeg\\x9das\\x8b!v/\\x15T\\x89\\xcc\\xb0y\\xa8\\x0f\\x9bu\\x86\\xcd-\\x86\\xd8\\xbeTP%2\\xc3\\xe6\\xa1>l\\xd6\\x196\\xb7\\x18b\\xfbRA\\x95\\xc8\\x0c\\x9b\\x87\\xfa\\xb0Yg\\xd8\\xdcb\\x88\\xedK\\x05U\"3l\\x1e\\xea\\xc3\\xbc\\xce0\\xdfb\\x88\\xedK\\x05U\"3\\xcc\\x0f\\xf5a^g\\x98o1\\xc4\\xf6\\xa5\\x82*\\x91\\x19\\xe6\\x87\\xfa0\\xaf3\\xcc\\xb7\\x18b\\xfbRA\\x95\\xc4\\x0c\\xf3C}\\x98\\xd7\\x19\\xe6\\xe1\\xbc\\x8b\\x19\\x06\\xaa$f\\x98\\x1f;\\xf22\\xce\\xbcZ\\x0c\\xb1}\\xa9\\xa0J\\xea\\x8e\\xbd\\x80a\\xc98\\xad\\xf0:\\xc3|\\x8b!\\xb6/\\x15TI\\xcc0\\x8fM\\x9cUYg\\x98o1\\xc4\\xf6\\xa5zt\\x9a\\xcc0?t\\x02\\xe6u\\x86\\xf9\\x16Cl_*\\xa8\\x92\\x98a \\xbbd\\x9c\\xd0x\\x9da\\xbe\\xc5\\x10\\xdb\\x97\\n\\xaa$f\\x98\\x1f\\xea\\xc3\\xbc\\xce0\\xdfb\\x88\\xedK\\x05U\\x123\\x0cd\\x97\\x8c\\xcaAgXh1\\xc4\\xf6\\xa5\\x82*\\x89\\x19\\x16\\xb0\\x0f3H\\x12t\\x86\\x85\\x16Cl_*\\xa8\\x92\\x98a \\xbbd|\\x9e\\x83\\xce\\xb0\\xd0b\\x88\\xedK\\x05U23,\\x0c\\xf5aAgXh1\\xc4\\xf6\\xa5\\x82*\\x99\\x19\\x16\\x86\\xce\\xc3\\x82\\xce\\xb0\\x00\\x07\\xf7\\xcc0P%3\\xc3\\x022\\xcc:\\xbb7\\x0e\\xef[\\x0c\\xb1}\\xa9\\xa0J\\xee\\xce\\xef\\x81a\\xd9\\xf0\\x92AgXh1\\xc4\\xf6\\xa5\\x82*\\x99\\x19\\x16\\x86\\xfa\\xb0\\xa03,\\xb4\\x18b\\xfbR\\x03\\x9e\\x961\\xc3\\xc2P\\x1f\\x16t\\x86\\x85\\x16Cl_*\\xa8\\x92\\x99a \\xbblp;\\xe8\\x0c\\x0b-\\x86\\xd8\\xbeTP%3\\xc3\\xc2P\\x1f\\x16u\\x86\\xc5\\x16Cl_*\\xa8\\x92\\x99aq\\xa8\\x0f\\x8b:\\xc3b\\x8b!\\xb6/\\x15T\\xc9\\xcc\\xb08\\xd4\\x87E\\x9da\\xb1\\xc5\\x10\\xdb\\x97\\n\\xaa\\x14fX\\x1c\\xea\\xc3\\xa2\\xce\\xb0\\xd8b\\x88\\xedK\\x05U\\n3,\\x0e\\xf5aQgXl1\\xc4\\xf6\\xa5\\x82*\\x85\\x19\\x16\\xfd\\xd0>\\xeb\\x0c\\x8b\\xf0\\r$3\\x0cT)\\xcc\\xb0\\x18\\x86\\xf6\\xd9\\xf8\\x16\\xb2\\xc5\\x10\\xdb\\x97\\n\\xaa\\x94\\xee\\x8bH`X6\\xceI\\xa2\\xce\\xb0\\xd8b\\x88\\xedK\\x05U\\n3,\\xe2a\\x9aqf\\x10u\\x86\\xc5\\x16Cl_j\\xc4\\x13\\x7ffXD\\x86\\x19]o\\xd4\\x19\\x16[\\x0c\\xb1}\\xa9\\xa0Ja\\x86\\xc5\\xa1\\xf3\\xb0\\xa43,\\xb5\\x18b\\xfbRA\\x95\\xc2\\x0cK\\xd3\\xc8\\xe79\\xe9\\x0cK-\\x86\\xd8\\xbeTP\\xa50\\xc3\\xd2\\xd0yX\\xd2\\x19\\x96Z\\x0c\\xb1}\\xa9\\xa0\\xba\\x89\\x19\\x96\\x86\\xfa\\xb0\\xa43,\\xb5\\x18b\\xfbRAu\\x133,\\r\\xf5aIgXj1\\xc4\\xf6\\xa5\\x82\\xea&fX\\x1a:\\x0fK:\\xc3R\\x8b!\\xb6/\\x15T71\\xc3P\\xce\\x86\\xafJ:\\xc3\\x12D)\\x98a\\xa0\\xba\\x89\\x19\\x96\\x86\\xfa\\xb0d\\xc4)Z\\x0c\\xb1}\\xa9\\xa0\\xba\\xa9KT\\x0c\\xf5aIgXj1\\xc4\\xf6\\xa5\\x82\\xea&fX\\x1a:\\x0fK:\\xc3R\\x8b!\\xb6/5\\xe1\\xb7\\x96\\xcc\\xb04\\xd4\\x87e\\x9da\\xb9\\xc5\\x10\\xdb\\x97\\n\\xaa\\x9b\\x98a(gc\\x9f\\xb3\\xce\\xb0\\xdcb\\x88\\xedK\\x05\\xd5M\\xcc0\\x94\\xb3\\xb1\\xcfYgXn1\\xc4\\xf6\\xa5\\x82\\xea8\\xe6\\xb2\\xe4\\xa1>,\\xeb\\x0c\\xcb-\\x86\\xd8\\xbeTP\\x1d\\x07]\\x96<\\xd4\\x87e\\x9da\\xb9\\xc5\\x10\\xdb\\x97\\n\\xaa\\xe3\\xa0\\xcb\\x82r\\xb6*\\xeb\\x0c\\xcb-\\x86\\xd8\\xbeTP\\x1d\\x07]\\x16\\x94\\xb3\\xe1b\\xb3\\xce\\xb0\\xdcb\\x88\\xedK\\x05\\xd5q\\xd0eA\\xb9\\x18.6\\xeb\\x0c\\xcb\\x90\\tc\\x86\\x81\\xea8\\xe8\\xb2\\xa0\\\\\\xac\\xff0#\\x17\\xd6b\\x88\\xedK\\x05\\xd5q\\xd0eA\\xb9X\\x814\\x9da\\xb9\\xc5\\x10\\xdb\\x97\\n\\xaa\\xe3\\xa0\\xcb\\x92\\x87\\xfa\\xb0\\xa23\\xac\\xb4\\x18b\\xfbR\\x0b&/\\x98ae\\xa8\\x0f+:\\xc3J\\x8b!\\xb6/\\x15T\\xc7A\\x97\\xa5\\x0c\\xf5aEgXi1\\xc4\\xf6\\xa5\\x82\\xea8\\xe8\\xb2\\x94\\xa1>\\xac\\xe8\\x0c+-\\x86\\xd8\\xbeTP\\x1d\\x07]\\x16\\x94\\x8b\\x95>\\xd4\\x19VZ\\x0c\\xb1}\\xa9\\xa0:\\x0e\\xba,([9\\xc0\\xa23\\xac\\xb4\\x18b\\xfbRAu\\x1ctYP.\\x86\\xbb):\\xc3J\\x8b!\\xb6/\\x15T\\xc7A\\x97\\xa5\\x0c\\xf5aEgXi1\\xc4\\xf6\\xa5\\x82\\xea8\\xe8\\xb2\\xa0\\\\\\xac\\xa7\\xad3\\xac@\\xb8\\x95\\x19\\x06\\xaa\\xe3\\xa0\\xcbR\\x86\\xfa\\xb0b\\x04\\\\1\\xe1\\xdaE\\\\\\x81R\\x9ctY\\xcaP#v\\xb9\\xac\\x91r\\x05\\xc3\\xc8\\x16\\xa6\\xa2\\xee8\\xed\\xb2\\x90^\\x8c\\xdd\\xbe\\\\\\xd8(\\x0f\\xae\\x91}LE\\xddq\\xe4e!\\xdd\\x8c\\x04NF\\xdeu\\x82\\xe3/63\\x15u\\xd7e\\xf2I/fy#\\xf4:\\xc1\\x19\\x18;\\x9a\\x8a\\xba\\xeb\\xd2\\xf9\\xa4\\xdb{o$_\\'8\\x08c[SQw]N\\x9ft3\\t:\\x19\\xf1\\xd7\\tN\\xc3\\xd8\\xdbT\\xd4]\\x97\\xd8\\'\\xdd\\xde{#\\x03;\\xc1\\x91\\x18\\x1b\\x9c\\x8a\\xba\\xeb\\xb2\\xfb\\xa4\\x9b\\x99\\xd0\\xc9\\x08\\xc2Np.\\xc6.\\xa7\\xa2\\xee\\xba\\x14?\\xe9\\xf6\\xde\\x1bi\\xd8\\t\\x0e\\xc7\\xd8\\xeaT\\xd4]\\x97\\xe7\\'\\xdd\\xde{#\\x12;\\x01\\xf3\\xbaX?\\xea\\xae\\x0b\\xf6\\x93^\\xacwoe\\xfb)\\xdc\\xdfQ\\x0f\\xf3\\xfb}\\xbc\\x1f\\xf5b8\\x041\\x03\\xfe@=%\\xe2\\x0fTS2\\xfe\\x90L\\x9b\\x0c\\x9b V\\xca\\x1f\\x83\\xfc}\\xce\\x1f\\x93\\xfc}\\xd0\\x7f0\\xe9oE\\xfd1\\xcd\\xdf\\x87\\xfd1\\xce\\xdf\\xa7\\xfd\\x07\\xe3\\xfeV\\xde\\x1f#\\xfd}\\xe2\\x1f3\\xfd}\\xe4_\\x86\\xbe\\xe3\\x14+\\xf4\\x8f\\xb9\\xfe>\\xf6\\x8f\\xc1\\xfe>\\xf7\\x0f\\xfa<Y\\xd8\\xb1\\x92\\xff\\x18\\xee\\xef\\xb3\\xff\\x98\\xee\\xef\\xc3\\xff\\x83\\xe9\\x7f+\\xfe\\x8f\\t\\xff~\\x00\\x00#\\xfe\\xfd\\x04\\xc0\\xe0\\x08\\x805\\x03\\x801\\xff~\\n\\x00s\\xfe\\xfd\\x18\\x00\\xe8\\xf3dxU\\xb1\\x06\\x010\\xeb\\xdf\\x8f\\x02`\\xd8\\xbf\\x9f\\x05\\x18\\x1b\\x06\\x10c\\x1a@0\\xf0\\xdf\\xcd\\x03\\xa0\\xee\\xba\\x81\\x00\\x19\\x9b\\x08\\x10c$@0\\xf5\\xdf\\r\\x05\\xa0\\xee\\xba\\xa9\\x00\\x19\\x1b\\x0b\\x10c.@0\\xfa\\xdfM\\x06\\xa0\\xee\\xba\\xd1\\x00\\x19\\x9b\\r\\x10c8@0\\xff\\xdf\\x8d\\x07\\x08\\r\\x00t\\xd4\\x1b\\x1b\\x10\\x10cB@p\\x08\\xa0\\x9b\\x11\\x10\\x1a!\\xe8\\xa8\\xe7\\xc6z=cL@p\\x12\\xa0\\x1b\\x14@\\xddu\\x93\\x02\\xa4\\xdb{oP\\x0f\\xc7\\x01\\xbai\\x01\\xd4]7.@\\xba\\xbd\\xf7\\x06\\xf5p&\\xa0\\x1b\\x19\\x10\\x1a\\n\\xe8\\xa8764 \\xc6\\xd4\\x80\\xe0`@77\\x80\\xba\\xeb\\x06\\x07\\xe4\\xffL\\x0e\\\\5\\xf3\\xd7\\xaf\\xbb\\xcf\\xeb_v\\xc7\\xcfO\\xfb\\xd3\\xe6y}\\xb8\\xac\\x9a>\\\\n\\xfe\\xf8m\\\\\\xfb\\xfd\\xe7\\xf3\\xe1\\xf5\\xfd\\xa7\\xcb\\x8e~:\\x9c\\xcf\\x87\\x97?~{\\\\w\\xf7\\xeb\\xf1\\xed\\xb7\\xcb\\xbf\\xfa\\xc3\\xe1p\\xfe\\xe3\\x97\\xb7\\xa9\\xf0\\xefc\\xf0\\xb7\\xff\\x05PK\\x03\\x04\\x14\\x00\\x00\\x00\\x08\\x00\\x00\\x00?\\x00\\x83\\x18j%H\\x01\\x00\\x00&\\x02\\x00\\x00\\x0f\\x00\\x00\\x00xl/workbook.xml\\x8dQ\\xcbN\\xc30\\x10\\xbc\\xf3\\x15\\xd6\\xdei\\x1ej#Z5\\xa9\\xc4KTB\\x80Di\\xcf&\\xde4V\\x1d;\\xb2\\x1d\\xd2\\xfe=\\xebT)p\\xe3\\xb43\\xe3\\xdd\\xd1\\xcez\\xb9:6\\x8a}\\xa1u\\xd2\\xe8\\x1c\\x92I\\x0c\\x0cui\\x84\\xd4\\xfb\\x1c>6\\x8f\\xd77\\xc0\\x9c\\xe7Zpe4\\xe6pB\\x07\\xab\\xe2j\\xd9\\x1b{\\xf84\\xe6\\xc0h^\\xbb\\x1cj\\xef\\xdbE\\x14\\xb9\\xb2\\xc6\\x86\\xbb\\x89iQ\\xd3Kel\\xc3=Q\\xbb\\x8f\\\\k\\x91\\x0bW#\\xfaFEi\\x1cgQ\\xc3\\xa5\\x86\\xb3\\xc3\\xc2\\xfe\\xc7\\xc3T\\x95,\\xf1\\xde\\x94]\\x83\\xda\\x9fM,*\\xeei{W\\xcb\\xd6A\\xb1\\xac\\xa4\\xc2\\xed9\\x10\\xe3m\\xfb\\xc2\\x1bZ\\xfb\\xa8\\x80)\\xee\\xfc\\x83\\x90\\x1eE\\x0eS\\xa2\\xa6\\xc7?\\x82\\xed\\xda\\xdbN\\xaa@f\\xf1\\x0c\\xa2\\xe2\\x12\\xf2\\xcd2\\x81\\x15\\xef\\x94\\xdf\\xd0j\\xa3;\\x9d+\\x9d\\xa6i\\x16:C\\xd7Vb\\xef~\\x86\\x02e\\xc7\\x9d\\xd4\\xc2\\xf49\\xa4S\\xba\\xecid\\xc9\\x0cX?\\xe0\\x9d\\x14\\xbe&!\\x8b\\xe7\\x17\\xed\\t\\xe5\\xbe\\xf69\\xcc\\xb3,\\x0e\\xe6\\xd1/\\xf7\\xe1~cez\\x08\\xf7\\x1epB\\xff\\x14\\xea\\x9a\\xf6\\'l\\x17\\x92\\x80]\\x8bdp\\x18\\xc7J\\xaeJJ\\x13\\xca\\xd0\\x98Ng\\xc9\\x1cX\\xd5)uG\\xda\\xab~6|0\\x08Cc\\x92\\xe2\\x1bPK\\x03\\x04\\x14\\x00\\x00\\x00\\x08\\x00\\x00\\x00?\\x00\\xb6\\xdb\\x85t\\xfd\\x08\\x00\\x00\\x1d>\\x00\\x00\\x14\\x00\\x00\\x00xl/sharedStrings.xml\\xddY\\xcbn\\xe3\\xca\\x11\\xdd\\xe7+\\x08o\\xbc\\x89l\\xeaaY2<\\xbe\\xc8\\x037\\x8b\\x04\\x01\\x02L6\\t\\x82\\x8b\"\\xbbD\\xb6\\xd8\\xdd\\xa5a\\xb3\\xcd\\xa1\\x83\\xfc{\\x8a\\x9eY\\xf90@\\x90\\x0c%@\\x806jR\\xdd\\xf58u\\xeaT\\xeb\\xf9\\xa7\\xaf\\xdee\\xaf\\xdcF+\\xe1\\xd3\\xcd\\xf2.\\xbf\\xc98\\x94bl\\xa8>\\xdd\\xfc\\xf5\\xf3\\xcf\\x8b\\xddM\\x16;\\n\\x86\\x9c\\x04\\xfet3p\\xbc\\xf9\\xe9\\xe5W\\xcf1v\\x99\\xfe4\\xc4O7u\\xd7\\x9d\\x9e\\xee\\xefcY\\xb3\\xa7x\\'\\'\\x0e\\xfa\\xe4 \\xad\\xa7N\\xbf\\xb6\\xd5}<\\xb5L&\\xd6\\xcc\\x9dw\\xf7\\xab<\\xdf\\xde{\\xb2\\xe1&+%\\x85\\xee\\xd3\\xcdz\\xb7\\xb9\\xc9R\\xb0_\\x12\\xff\\xee\\xfbJ\\xbe\\xbeyy\\x8e\\xf6\\xe5\\xb9{\\xf9\\xd9\\xb6z\\xd8\\x9f\\xc9\\xf3\\xf3}\\xf7\\xf2|?\\xae~{\\xf2\\'\\xfa\\x0f\\x0f\\xba\\x96B\\xa4\\xb2S\\xa7>>\\n\"\\x9c\\x9a\\xfe\\xe32\\x85*\\xb9B>.\\x9b\\xd4Ho?\\xae\\xba.\\t\\xf5V\\n\\xd8\\x9c\\x9a$\\x0ev9&\\xaa\\xc0\\x10\\x1e\\x1a\\x0e,\\xfd\\x11\\x1e\\xb8\\tCD\\xc8\\xb0\\x83\\x03\\xc9\\x81q\\x96\\x1c\\xfc\\xb8?\\xaaU\\x94\\xda\\x8f\\x0f\\n\\xdd\\xd5V\\x14\\xfd\\xc7\\x07C\\xef\\x93%\\xdc\\'U`-\\xb1\\x98\\x06\\x96\\xc9\\x0c)DX\\xb5\\x85\\x0bt\\x10\\xd8\\xd9H\\xc34\\xc0\\xde\\x99h\\xf8S-\\x12 a\\xd6k\\x06Bj>\\xae7\\xad\\x08\\xbc,R\\x15!:I\\xf0 \\x1d\\x1b\\xc8\\x0cY\\x9fz0\\x86\\xc2P\\t\\xb33\\xb0I\\xb2\\xbd\\x81\\x84\\r\\xc4\\xb61\\x01\\xb1 \\x98\\xdb\\x81\\xb9\\xc7\\xac5m\\xe2\\xda\\xc2\\xdb\\xbdV\\x88k\\x89+\\x84\\x1f\\xf7\\x81\\xdf\\xa0\\x18ziBb\\xd8\\xa7`\\xd3Z\\x0bo;\\xe1AzX\\xa6\\xd4\\x87\\n\\xf6p\\x1a\\xd8PH\\x84\\x900\\x97\\xb6\\t5\\xb8$}\\xd0\\xf2\\xfb\\xb8|\\n&\\x89\\xad\\xf0Pr\\xc5\\x01#@\\xb1\\x06\\xd4w\\x96\\x0c\\xd6\\x82P\\xa1U\\xa3\\x00\\x07C\\xeaT6\\xea\\x13\\x9828\\x16F\\x00\\x99\\xc6\\'\\x02\\xd4\\xb2\\x84\\xd47H\\x1aB\\xac!\\x07\\x04\\x89%vG\\x03H>\\x84\\xc1ku\\x02\\x00\\xfa\\xdar \\xaa\\xa0\\xb8\\x8c\\x95\\x84\\x05\\xe1:\"\\tX\\x10\\xb5\\x94\\x13\\x1e\\xf5-\\x97\\xe0\\x90r\\x8c\"\\x1c\\r\\x8f)\\x19\\x01\\x92\\x88\\xd1\\x13\\x12l\\xea\\xc5uJ,\\x90\\x0c5\\xa4\\xd7\\x8aV a\\t\\xf4\\xca\\xca\\x06K $m\\x13\\x00\\xf3>\\x917<26\\xd8?H\\x08u\\x87\\xbc\\xa5\\x98v\\x00/\\xdb9\\xa5?x\\x99\\x8f\\x86,\\x98b\\xc4iI\\xc3\\x1e\\x9a8\\xcd\\x9c ]\\x84\\xa8\\x81@@\\x0f\\x0c\\xf9\\x0f\\xf6H\\x1d\\x9a!\\xd2B.\\x03\\x1dSrX\\x87\\xa4\\xe4\\t\\xfb&\\x8af\\x98 \\xb7\\x10\\n\\xe4\\xc1F\\xb8\\x05\\x1b\"\\x17\\x14\\xd8\\xe2\\xce\\x9a\\xc9\\x86\\xc7<f`\\xca\\x9b\\xb0\\xe6\\x87\\x1b<\\xa2\\xc6\\xa0r+\\xc5\\x88\\xfc\\xd0\\x03\\xc6]z\\x9bH\\xaf\\x82\\x87\\xc0\\xa5\\x91j=\\xc6U\\xf5J\\xaf\\xbcO\\x0e\\xfb^\\xb4\\xca\\xa1\\x10\\\\\\xc7\\xa9\\x15\\xa5U\\x82bI\\xe2c\\xddb\\xb9\\xb4\\xd2\\x9c`\\xb5\\xf6TZ\"8T\\x05\\x8e\\x03\"rc\\xc9\\r\\xc8\\xd9\\\\8\"\\xc2~/\\x95\\x1f\\x16R;U\\x0ep\\x80\\xb1\\xb6\\xc3\\x1abe\\xf4~@\\xc8\\x88V\\xaf\\xb1\\x05\\x04>\\xb4\\xc16\\x14\\xb0\\xfb\\xb7\\x96\\x108T\\xd5\\xd8\\xcfL\\x9bz\\x02\\x9f\\n\\xb2\\x98\\ti\\x94W\\x0fpT*\\x90?\\x94l\\x1a0*\\x88\\xb2{\\x8d\\xad\\x90\\xfa>\\x04\\xa4\\xe6\\xa4\\x1a\\x15\\xd6\\xd8C\\xa3\\xf2J\\x18l\\x91\\x08\\x95I \\xc0\\xaa\\x15\\xbc\\xaa+\\x82\\xc3\\xea\\n\\xd7DNp\\x18{\\xef\\x98\\x12\\xe0\\xda\\xd6\\xae\\x9c\\xe8~\\xb6\\x06\\x14U\\xca\\x9fm\\x11\\xd8\\xa5\\x89\\x00\\x99\\x8a\\x19\\x9b\\x8bI\\xda\\x89\\xbb\\x88=\\xad\\x8b\\xc0\\x9f\\x14\\xb5\\xbel8\\x80T\\x15\\x8b\\xf4\\xaf\\xd2\\xb8QB$\\x14\\xab\\x91\\xa7dp\\xd2\\xb7\\xc5\\x1f\\xc1\\x90\\x94\\xac\\xa3^\\n\\x0f?1\\x12\\xc8A\\xb9S]\\x06\\xb2o\\x10\\xc4c\\xea\\x0c\\x84<R\\xa4\\x1a6nS\\xd3\\x11\\xe0\\xa3j\\xab`m\\x9b5\\xaat\\x13\\xa1\\\\L\\xc5\\xd0`\\xdc\\x99\\xb4\\rF(\\x82z(\\x9b\\xa0=p\\xe0`\\x91\"I\\x13e2\\xf1\\x83\\x95H.\\x1c\\x92\\x83}\\x0f\\x89:\\xd43A\\x01h\\xb0\\xb3P\\xf9Vc!\\x89s\\xa9\\x13>\\x81\\xc9\\x15\\xc76;\\xfa\\xa4M\\r\\xc1\\xf8Fu\\xd11\\xc2_\\x85\\x97Gf\\x17\\xf3\\xc5\"\\xd9\\xa9:\\xe5\\x06\\xec!\\xb1)SW\\xb5\\x08\\x0eFiI{5\\x1c\\xef\\x99\"\\xc0\\xcf8%I?Q\"i\\x9c\\x952\\xef\\x14Y\\xa4\\xf3\\x90B\\x1d(F\\xb2Hl\\xb4\\xe9\\x1dH\\x1d\\x03\\xfb\\x1d\\x7f-Q\\x8fZ\\xaf2\\xa2?@\\xe2\\x9423\\xb1Q\\xa5@Q\\x17\\xd8.[qZ?\\x10\\xb8\\xc2\\xd4\\xa5G5,\\xa3\\xeas%Pe\\x88AKe\\xb0\\x84\\xe3S\\x94/\\xd8\\xa5uF\\x08\\xaf\\xa5\\xe0\\xf4\\x1a\\x93F\\x13\\xd5\\x02\\x85\\x82\\xd5&\\xa8~>\\xa9f\\xe0\\xaeD{\\xd4NL\\xa6\\xeb\\xc7\\x96\\x06/\\x07<R\\xc5\\xa3\\x82\\'\\xc9\\xc1y\\x979\\x15\\xde\\x13\\xfd%\\x04l$T8\\t(\\xe7\\xb4\\xe7 lu\\xe24(l\\xb4\\xf8\\x08\\xa7S\\xe7_i\\x94\\xdc\\x123\\x08B\\x92\\xa2O^\\xdb\"\"\\xfd\\x08m\\xa256\\xe2T@r\\x12l\\xcf\\nB\\x1dq\\x8aV\\xc1\\x9fi\\'\\x03\\xdc\\xeb\\xbci\\x05|\\x95\\xa0\\xf3H\\xea\\x0b4\\xc7F\\x8d\\x18r\\x94gi\\xa0~l\\xa0\\x88\\xefJF\\x07\\x9d\\x959y\\xab\\xa27\\rJD\\x98:\\x1ee\\xfe\\xc1\\x02Yjbb\\xcdYG\\xf6\\x15\\x89\\xf4\\xcd\\xd6\\xb6Dg4\\x19\\x1c\\x91p<C\\xd1\\xda\\x9aB\\xf9\\x86\\xd64f\\x181\\x8a\\x15\\x10x\\xbcY\\xc0\\x03\\xd945,\\xb3\\xd6\\xd6\\x80\\x93<+\\x06\\x91\\xcb\\xbc\\xc8\\xd15\\x8c\\xc4_\\x1c\\\\\\xc6\\xb5\\xcez\\xda\\xee\\xa8\\xc56e\\xab@\\x03\\x16\\x99\\xb7]\\xe6u\\xdaS\\xf5\\x0c\\xa1(\\x93Z\\x80\\xd3\\xb4i\\x02\\xd7\\xc8+*\\xbd\\xb08N*\\x18-\\x1f\\x11`l\\xa9{+\\xd8a\\x8b\\xac\\xd3qB\\xd3\\x90R8\\xe4%\\xb8\\x82\\x05{\\x95\\xa4\\xc0I\\x1b\\x19\\xe8i\\xb5:p\\x03\\xb1\\xe1\\x13\\xb7\\x10\\x99\\xa1\\xeah\\x82g\\x9aZ\\x83\\xdfS\\xa90\\xc5\\x8eD\\x85\\xcd\\xdc(\\xff\\xc5\\xa0\\x1eV%_\\xa2\\xad\\xa1\\xb4\\xaf\\xf65xKYm\\r<v\\xe4S\\xc0v^\\xd6R\\xd97\\xbcE\\xa1:\\xb5HF\\'f\\x82\"\\xd4\\x06\\xfdV\\x08\\xb0k<J}R2B\\x94v\\x1d\\xb6\\x7f\\xa9a\\xdf\\xee\\xa0\\xfd\\x08\\xb2\\xdaY\\xa6\\xa2f\\x07:\\xc9\\x11\\x17\\x82CQr\\x07\\x9d\\xaep\\x92\\xb5\\xd1\\x91$\\x1b9\\xc3\\xf9\\x9c\\x92-\\xfa\\xe0\\x12\\xde\\x18\\xd8R\\x0111C\\x1f\\x12S?q}\\x13\\x061XaC\\xb0uYL\\\\i\\x8d\\x94\\xa8\\xec\\x8d\\x1a\\xc5\\xf8\\xda*\\xcb`\\x903g\\x83\\xaa\\xae\"a\\x81\\xb7:?\\xa88\\x80\\xbdjr\\xbe{\\xd5\\x1e\\x11&Zz\\x9d\\xca6\\xa1~&)&\\xbcK\\xcec\\x1b\\x96R\\xc5|\\x8d\\xf7\\x9a\\xa4\\xd3\\x1a\\xd8\\xc8\\xcd\\x10t\\x88C\\xb4\\xf2\\x04\\xfa4hZt\\x80`\\xd5tZ^ \\x06\\xfd\\xc1Y\\xb5p\\x82\\xfaS\\x16\\x06\\x9b\\x0eN%\\xb4\\x13\\xe3\\x85\\xf1\\xc2[\\xd8\\x9c\\xb0.\\xffy\\xdb}\\xfd\\xc5\\x9a\\xdb\\xa7\\xec\\xf6\\x81\\xcd\\xdal\\x1f\\x8b\\xdd\\xe3j].\\x97\\x9b\\xcd\\xa6\\xdc\\xacW\\xbb\\xf5\\xed\\xaf\\xb3\\xf1%C\\x1d\\x8f\\xaf\\xad\\xf2U\\xbe\\xc8\\xb7\\x8b\\xe5\\xfas\\xfe\\xf0\\xb4\\xda=m\\x1e\\xef\\x1e6\\xeb<\\xcf\\xff\\xf6\\xfdM\\xf2\\xe3\\x1f\\x06\\xfa\\xeev\\xb9_}[\\xf2b\\xde\\x7f\\xfc{.l\\xf7\\xfd\\xb5R\\x1b\\x87\\x8eG\\xe3\\xb2\\x8e\\xd6\\xe3bA\\xa1\\xf9%\\x90\\x7f\\x7f\\xf5/\\xbf\\xd5o\\xe3\\xaa\\x91B\\xbf\\xff\\xfdv\\xb9\\xdf\\xaf\\x16\\xcb\\xe5b\\x99gy\\xfe\\xf4\\xfe\\xb9\\xfd\\xc7\\xbf~\\xa0C\\xab\\xcf\\xab\\xfci\\xb5zZ\\xef\\xee\\xf6\\xbb\\xed\\x94C\\xeb\\xddf\\xf3\\xf0_y\\xe4Eu\\x00\\x83S\\xbf\\xf9\\xe8T\\xb8\\xa7\\x1f\\xeb\\x84fe;\\x06g\\xb3\\xbd\\xdb\\xe7\\x9b)\\'V\\xfb\\xed\\xea\\xf1\\xffq\\xe2\\x0f\\x93\\x99\\xc9\\x97\\xfa\\x99)3\\xeb\\xcf\\xcb\\xed\\xd32\\x7fzX\\xdem\\x1e\\xf7\\x93N=>\\xee\\x97\\xff3\\xd6\\xfe\\x88\\x1e\\xed\\x96\\xef\\x1e=\\xce\\xe6\\xd1y\\x8b\\xe7\\x87\\xe3\\xec\\x12\\xc5\\xa2Y\\xc9G\\x06X\\xad\\xe6\\xcb\\xca%\\x8ag\\xb7\\xc8w\\x8b\\xd5\\\\\\xb4v\\x81\\xe2y\\x1c\\x01\\xa2\\x9f+)\\x9es8tv\\xdc\\xcd\\xd0y\\xce\\x8c\\xb3k\\xe1\\xb4\\xcd\\xb7\\xf0]\\x11\\xb6\\xbe\\xb5\\xcf\\xedb5_\\xfb<\\xbf \\xd8\\x8f\\x14\\xb0\\xda_\\r\\xa7]\\x99\\xc2\\xd1>\\xfa-C\\xf3\\x15\\xd2\\xf9\\xfb\\xe8~\\x91\\xef\\xe7\\xac\\xa2KP\\xc3\\xf6\\xdd\\xa9|\\xaeB\\xba\\x0c\\x89?>\\x8c\\xd8\\xcb\\x1f\\xae\\x07{\\xfb\\xf5\"W\\xc93\\x9fGg\\xe7;\\x95\\xd9\\x0f\\xaa\\xb4\\xaf\\nw:\\x10\\xcd;x\\x9f7K+=\\xe2\\xbd\\x906\\xd7\\x95\\xa5\\xddb\\x99\\xcfwqu\\x81V\\xbb\\x99\\x95\\xc3/r\\xb58g\\x1d]\\x06v\\xfbQ\\xde\\xcd\\n\\xbbKL\\x16\\x8a\\xbb\\xf5b9\\x97&\\xbaP\\xa6V\\xa3S\\xeb\\x19i\\xfc\\x12\\xf7Zs\\xc3\\xef\\xfc\\x9a\\xe8}\\xc2Xn\\xaf(M\\xef\\x1dw\\xde\\xfb\\x87\\xb3\\xa7i\\xfb\\xf8~\\xa1:\\x97\\x86\\xb8\\x80t\\xdd\\x8f\\xd2uue\\xddi=\\xf3\\xb8~\\xa1?\\xc2F\\xa7\\xe6\\x83\\xde\\xf9\\xef\\xbd\\xe6\\x9d0.$\\xc8\\xf7W\\xf7\\x7fe>r\\xde\\xb5)\\x88\\xf5\\xfb\\x981c\\xbf=7\\x91o\\xde;\\xd3|\\x0e\\x9d_\\x12\\xcd\\xae\\\\\\xcf\\xfdW\\xdff\\xbc\\xf7\\x9a\\xed&\\xefB\\xbdv\\xde\\xab\\xf1\\xcb\\xdd}\\xcdKy\\xe7f\\x07\\xd5\\xad#\\xfa\\xa6\\x1d\\xba\\x8f\\xb1{\\xf97PK\\x03\\x04\\x14\\x00\\x00\\x00\\x08\\x00\\x00\\x00?\\x00i\\xae\\x84\\x18\\xfb\\x01\\x00\\x00=\\x05\\x00\\x00\\r\\x00\\x00\\x00xl/styles.xml\\xbdT\\xdf\\x8b\\x9c0\\x10~\\xef_\\x11\\xf2~\\xe7*\\xf4h\\x8bz\\xf4\\n\\x0b\\x85\\xb6\\x14n\\x0b}\\x8d\\x1a5\\x90\\x1f\\x92\\x8c\\x8b\\xde_\\xdfI\\xe2\\xaa\\x0bw,\\xdcC_\\xcc\\xcc\\xe4\\x9bof\\xbe\\xc4\\xe4\\x8f\\x93\\x92\\xe4\\xcc\\xad\\x13F\\x174\\xbd?P\\xc2um\\x1a\\xa1\\xbb\\x82\\xfe9\\x1d\\xef>Q\\xe2\\x80\\xe9\\x86I\\xa3yAg\\xee\\xe8c\\xf9!w0K\\xfe\\xdcs\\x0e\\x04\\x19\\xb4+h\\x0f0|I\\x12W\\xf7\\\\1wo\\x06\\xaeq\\xa75V1@\\xd7v\\x89\\x1b,g\\x8d\\xf3IJ&\\xd9\\xe1\\xf0\\x90(&4-\\xf3\\xd6hp\\xa46\\xa3\\x86\\x82fK\\xa0\\xcc\\xdd\\x0b93\\x89m\\xa54)\\xf3\\xdaHc\\t =\\xf6\\x11\"\\x9a)\\x1e\\x11\\xdf\\x98\\x14\\x95\\x15>\\xd82%\\xe4\\x1c\\xc3\\x99\\x0f\\x84\\x8e\\x16\\x9c\\x12\\xdaX\\x1fLb\\x85\\xf8\\xad\\x92\\xffQ+,\\x0e\\x93\\x84\\x94\\xd7\\xc3b\\xa0\\xcc\\x07\\x06\\xc0\\xad>\\xa2C\\x16\\xfb4\\x0fX^\\xa3\\xf0\\x91&\\xe0n\\xa0;\\xcb\\xe64\\xfb\\xb8K\\x08\\x0b\\xd6\\xad\\x8cm\\xf0\\xa0\\xf7\\x95c\\xa8\\xcc%o\\x01\\x13\\xac\\xe8z\\xbf\\x82\\x19\\x12\\xbf\\t`\\x14\\x1a\\x8d`\\x9d\\xd1Lz\\xcaK\\xc6>\\x93\\x84\\xcbPP\\xe8\\xc3aF\\xed\\xd8\\x08f\\x91.\\xf1\\xa0\\x85\\xfd&6\\xa0B\\x0b7\\xa1\\x88\\xb9ty\\x13\\x1ba\\xaf\\xcf\\xb2\\x18(Q\\xcd\\xa5|\\xf6L\\x7f\\xdbU\\xa7\\x14\\xf9\\xa6\\x96\\xe8Q\\x1d\\x15|o\\n\\x8a\\xbf\\x88?\\xc9\\x8b\\x89\\xe2.f\\xa4\\x89\\x8e\\xe7\\xdf\\xb3E\\xee\\x1dm\\xf6.Z2\\xb5+\\xff[\\xd9\\xe9\\x1b\\xd9\\xe9\\x96M\\xd80\\xc8\\xf9h\\xe2|\\xd1{\\n\\xc0\\xcd\\xff*E\\xa7\\x15\\xbfH\\xc0..\\xe9\\x8d\\x15/\\x98\\xea\\xefx\\x8d\\x01n\\xa9\\x7fA@\\xd4>\\x82\\x87\\x12\\x86\\x9f\\xdaE\\x81u\\xf8 \\xc5\\x95\\xack\\x94\\xf8\\xbf\\xab\\xa0\\xbf\\xfcc!wmV\\xa3\\x90 \\xf4+\\x92\"g3mj\\x86]`\\x15\\xbeIWU\\x90\\xa3\\xe1-\\x1b%\\x9c\\xd6\\xcd\\x82n\\xf6O\\xde\\x88Q}^Q\\xbf\\xc5\\xd9\\xc0\\x82\\xda\\xec\\x1f\\xfeN\\xa6\\x0f\\xa1\\x83\\xed\\xe1+\\xff\\x01PK\\x03\\x04\\x14\\x00\\x00\\x00\\x08\\x00\\x00\\x00?\\x00\\x18\\xfaFT\\xb0\\x05\\x00\\x00R\\x1b\\x00\\x00\\x13\\x00\\x00\\x00xl/theme/theme1.xml\\xedYM\\x8f\\xdbD\\x18\\xbe\\xf3+F\\xbe\\xb7\\x8e\\x13;\\xcd\\xae\\x9a\\xad6\\xd9\\xa4\\x85\\xed\\xb6\\xab\\xdd\\xb4\\xa8\\xc7\\x89=\\xb1\\xa7\\x19{\\xac\\x99\\xc9nsC\\xed\\x11\\t\\tQ\\x10\\x17$n\\x1c\\x10P\\xa9\\x95\\xb8\\x94_\\xb3P\\x04E\\xea_\\xe0\\xf5G\\x92\\xf1f\\xb2\\xcd\\xb6\\x8b\\x00\\xb59$\\x9e\\xf1\\xf3~\\x7f\\xf8\\x1d\\xe7\\xea\\xb5\\x071CGDH\\xca\\x93\\xb6\\xe5\\\\\\xaeY\\x88$>\\x0fh\\x12\\xb6\\xad;\\x83\\xfe\\xa5\\x96\\x85\\xa4\\xc2I\\x80\\x19OH\\xdb\\x9a\\x12i]\\xdb\\xfa\\xe0*\\xdeT\\x11\\x89\\t\\x02\\xf2Dn\\xe2\\xb6\\x15)\\x95n\\xda\\xb6\\xf4a\\x1b\\xcb\\xcb<%\\t\\xdc\\x1bq\\x11c\\x05K\\x11\\xda\\x81\\xc0\\xc7\\xc06fv\\xbdVk\\xda1\\xa6\\x89\\x85\\x12\\x1c\\x03\\xd7\\xdb\\xa3\\x11\\xf5\\t\\x1ad,\\xad\\xad\\x19\\xf3\\x1e\\x83\\xafD\\xc9l\\xc3g\\xe2\\xd0\\xcf%\\xea\\x1496\\x18;\\xd9\\x8f\\x9c\\xca.\\x13\\xe8\\x08\\xb3\\xb6\\x05r\\x02~< \\x0f\\x94\\x85\\x18\\x96\\nn\\xb4\\xadZ\\xfe\\xb1\\xec\\xad\\xab\\xf6\\x9c\\x88\\xa9\\x15\\xb4\\x1a]?\\xff\\x94t%A0\\xae\\xe7t\"\\x1c\\xce\\t\\x9d\\xbe\\xbbqeg\\xce\\xbf^\\xf0_\\xc6\\xf5z\\xbdn\\xcf\\x99\\xf3\\xcb\\x01\\xd8\\xf7\\xc1Rg\\t\\xeb\\xf6[Ng\\xc6S\\x03\\x15\\x97\\xcb\\xbc\\xbb5\\xaf\\xe6V\\xf1\\x1a\\xff\\xc6\\x12~\\xa3\\xd3\\xe9x\\x1b\\x15|c\\x81w\\x97\\xf0\\xadZ\\xd3\\xdd\\xaeW\\xf0\\xee\\x02\\xef-\\xeb\\xdf\\xd9\\xeev\\x9b\\x15\\xbc\\xb7\\xc07\\x97\\xf0\\xfd+\\x1bM\\xb7\\x8a\\xcfA\\x11\\xa3\\xc9x\\t\\x9d\\xc5s\\x1e\\x999d\\xc4\\xd9\\r#\\xbc\\x05\\xf0\\xd6,\\x01\\x16([\\xcb\\xae\\x82>Q\\xabr-\\xc6\\xf7\\xb9\\xe8\\x03 \\x0f.V4Aj\\x9a\\x92\\x11\\xf6\\x01\\xd7\\xc5\\xf1PP\\x9c\\t\\xc0\\x9b\\x04kw\\x8a-_.me\\xb2\\x90\\xf4\\x05MU\\xdb\\xfa(\\xc5P\\x11\\x0b\\xc8\\xab\\xe7?\\xbcz\\xfe\\x14\\xbdz\\xfe\\xe4\\xe4\\xe1\\xb3\\x93\\x87?\\x9f<zt\\xf2\\xf0\\'\\x03\\xe1\\r\\x9c\\x84:\\xe1\\xcb\\xef>\\xff\\xeb\\x9bO\\xd0\\x9fO\\xbf}\\xf9\\xf8K3^\\xea\\xf8\\xdf~\\xfc\\xf4\\xd7_\\xbe0\\x03\\x95\\x0e|\\xf1\\xd5\\x93\\xdf\\x9f=y\\xf1\\xf5g\\x7f|\\xff\\xd8\\x00\\xdf\\x16x\\xa8\\xc3\\x074&\\x12\\xdd\"\\xc7\\xe8\\x80\\xc7`\\x9bA\\x00\\x19\\x8a\\xf3Q\\x0c\"L+\\x148\\x02\\xa4\\x01\\xd8SQ\\x05xk\\x8a\\x99\\t\\xd7!U\\xe7\\xdd\\x15\\xd0\\x00L\\xc0\\xeb\\x93\\xfb\\x15]\\x0f#1Q\\xd4\\x00\\xdc\\x8d\\xe2\\np\\x8fs\\xd6\\xe1\\xc2h\\xcen&K7g\\x92\\x84f\\xe1b\\xa2\\xe3\\x0e0>2\\xc9\\xee\\x9e\\nmo\\x92B&S\\x13\\xcbnD*j\\xee3\\x886\\x0eIB\\x14\\xca\\xee\\xf11!\\x06\\xb2{\\x94V\\xfc\\xbaG}\\xc1%\\x1f)t\\x8f\\xa2\\x0e\\xa6F\\x97\\x0c\\xe8P\\x99\\x89n\\xd0\\x18\\xe225)\\x08\\xa1\\xae\\xf8f\\xef.\\xeapfb\\xbfC\\x8e\\xaaH(\\x08\\xccL,\\t\\xab\\xb8\\xf1:\\x9e(\\x1c\\x1b5\\xc61\\xd3\\x917\\xb1\\x8aLJ\\x1eN\\x85_q\\xb8T\\x10\\xe9\\x900\\x8ez\\x01\\x91\\xd2Ds[L+\\xea\\xeeb\\xe8D\\xc6\\xb0\\xef\\xb1i\\\\E\\nE\\xc7&\\xe4M\\xcc\\xb9\\x8e\\xdc\\xe1\\xe3n\\x84\\xe3\\xd4\\xa83M\"\\x1d\\xfb\\xa1\\x1cC\\x8ab\\xb4\\xcf\\x95Q\\t^\\xad\\x90l\\rq\\xc0\\xc9\\xcap\\xdf\\xa5D\\x9d\\xaf\\xac\\xef\\xd002\\'Hvg\"\\xca\\xae]\\xe9\\xbf1M\\xcej\\xc6\\x8cB7~\\xdf\\x8cg\\xf0mx4\\x99J\\xe2t\\x0b^\\x85\\xfb\\x1f6\\xde\\x1d<I\\xf6\\t\\xe4\\xfa\\xfb\\xbe\\xfb\\xbe\\xef\\xbe\\x8b}wU-\\xaf\\xdbm\\x17\\r\\xd6\\xd6\\xe7\\xe2\\x9c_\\xbcrH\\x1eQ\\xc6\\x0e\\xd5\\x94\\x91\\x9b2o\\xcd\\x12\\x94\\x0e\\xfa\\xb0\\x99/r\\xa2\\xf9L\\x9eFpY\\x8a\\xab\\xe0B\\x81\\xf3k$\\xb8\\xfa\\x98\\xaa\\xe80\\xc2)\\x88qr\\t\\xa1,Y\\x87\\x12\\xa5\\\\\\xc2I\\xc0Z\\xc9;?NR0>\\xdf\\xf3fg@@c\\xb5\\xc7\\x83b\\xbb\\xa1\\x9f\\r\\xe7l\\xf2U(uA\\x8d\\x8c\\xc1\\xba\\xc2\\x1aW\\xdeN\\x98S\\x00\\xd7\\x94\\xe6xfi\\xde\\x99\\xd2l\\xcd\\x9bP\\r\\x08g\\x07\\x7f\\xa7Y/DC\\xc6`F\\x82\\xcc\\xef\\x05\\x83YX.<D2\\xc2\\x01)c\\xe4\\x18\\rq\\x1ak\\xba\\xad\\xf5z\\xafi\\xd26\\x1ao\\'m\\x9d \\xe9\\xe2\\xdc\\x15\\xe2\\xbc\\x0b\\x88Rm)J\\xf6r9\\xb2\\xa4\\xbaB\\xc7\\xa0\\x95W\\xf7,\\xe4\\xe3\\xb4m\\x8d`\\x92\\x82\\xcb8\\x05~2k@\\x98\\x85I\\xdb\\xf2Ui\\xcak\\x8b\\xf9\\xb4\\xc1\\xe6\\xb4tj+\\r\\xae\\x88H\\x85T;XF\\x05U~k\\xf6\\xea$Y\\xe8_\\xf7\\xdc\\xcc\\x0f\\x17c\\x80\\xa1\\x1b\\xad\\xa7E\\xa3\\xe5\\xfc\\x8bZ\\xd8\\xa7CKF#\\xe2\\xab\\x15;\\x8bey\\x8fO\\x14\\x11\\x87Qp\\x8c\\x86l\"\\x0e0\\xe8\\xed\\x16\\xd9\\x15P\\t\\xcf\\x8c\\xfal!\\xa0B\\xdd2\\xf1\\xaa\\x95_V\\xc1\\xe9W4eu`\\x96F\\xb8\\xecI--\\xf6\\x05<\\xbf\\x9e\\xeb\\x90\\xaf4\\xf5\\xec\\x15\\xba\\xbf\\xa1)\\x8d\\x0b4\\xc5{wM\\xc92\\x17\\xc6\\xd6F\\x90\\x1f\\xa8`\\x0c\\x10\\x18e9\\xda\\xb6\\xb8P\\x11\\x87.\\x94F\\xd4\\xef\\x0b\\x18\\x1crY\\xa0\\x17\\x82\\xb2\\xc8TB,{\\xdf\\x9c\\xe9J\\x8e\\x16}\\xab\\xe0Q4\\xb90R\\x074D\\x82B\\xa7S\\x91 d_\\x95v\\xbe\\x86\\x99S\\xd7\\x9f\\xaf3Fe\\x9f\\x99\\xab+\\xd3\\xe2wH\\x8e\\x08\\x1bd\\xd5\\xdb\\xcc\\xec\\xb7P4\\xeb&\\xa5#r\\xdc\\xe9\\xa0\\xd9\\xa6\\xea\\x1a\\x86\\xfd\\xff\\xf0\\xe4\\xe3\\xae\\x98|\\xce\\x1e\\x0f\\x16\\x82\\xdc\\xf3\\xcc\"\\xae\\xd6\\xf4\\xb5G\\xc1\\xc6\\xdb\\xa9p\\xceGm\\xddlq\\xdd[\\xfbQ\\x9b\\xc2\\xe1\\x03e_\\xd0\\xb8\\xa9\\xf0\\xd9b\\xbe\\x1d\\xf0\\x03\\x88>\\x9aO\\x94\\x08\\x12\\xf1R\\xab,\\xbf\\xf9\\xe6\\x10tni\\xc6e\\xac\\xfe\\xd91j\\x11\\x82\\xd6\\x8ax_\\xe4\\xf0\\xa99\\xbb\\xb1\\xc2\\xd9g\\x8b{sg{\\x06_{g\\xbb\\xda^.Q[;\\xc8\\xe4\\xab\\xa5?\\x9e\\xf8\\xf0>\\xc8\\xde\\x81\\x83\\xd2\\x84)Y\\xbcMz\\x00G\\xcd\\xee\\xec/\\x03\\xe0c/H\\xb7\\xfe\\x06PK\\x03\\x04\\x14\\x00\\x00\\x00\\x08\\x00\\x00\\x00?\\x00\\x8b\\xd4\\xb9F%\\x01\\x00\\x00P\\x02\\x00\\x00\\x11\\x00\\x00\\x00docProps/core.xml\\x9d\\x92\\xcdj\\xc30\\x10\\x84\\xef}\\n\\xa3\\xbb-\\xdbIC\\x11\\xb6\\x03m\\xc9\\xa9\\x81B]Zz\\x13\\xd2\\xc6\\x11\\xb5~\\x90\\xd4:~\\xfb*v\\xe2$\\xe0SA\\x17if\\xbf\\x9d]T\\xac\\x0f\\xb2\\x8d~\\xc1:\\xa1U\\x89\\xb2$E\\x11(\\xa6\\xb9PM\\x89\\xde\\xebM\\xfc\\x80\"\\xe7\\xa9\\xe2\\xb4\\xd5\\nJ\\xd4\\x83C\\xeb\\xea\\xae`\\x860m\\xe1\\xd5j\\x03\\xd6\\x0bpQ\\x00)G\\x98)\\xd1\\xde{C0vl\\x0f\\x92\\xba$8T\\x10w\\xdaJ\\xea\\xc3\\xd56\\xd8P\\xf6M\\x1b\\xc0y\\x9a\\xae\\xb0\\x04O9\\xf5\\x14\\x1f\\x81\\xb1\\x99\\x88\\xe8\\x84\\xe4lB\\x9a\\x1f\\xdb\\x0e\\x00\\xce0\\xb4 Ay\\x87\\xb3$\\xc3\\x17\\xaf\\x07+\\xddl\\xc1\\xa0\\\\9\\xa5\\xf0\\xbd\\x81Y\\xebY\\x9c\\xdc\\x07\\'&c\\xd7uI\\xb7\\x18\\xac!\\x7f\\x86?\\xb7/o\\xc3\\xa8\\xb1P\\xc7U1@U\\xc1\\x19a\\x16\\xa8\\xd7\\xb6*\\xf0\\xf5%,\\xae\\xa5\\xceo\\xc3\\x8aw\\x02\\xf8c\\x1f\\xf4\\x99\\xb7\\xd3 c\\x1d\\xf0(\\x04 c\\xdc\\xb3\\xf2\\xb1xz\\xae7\\xa8\\xca\\xd3<\\x8d\\xb3p\\x96u\\x96\\x93tI\\xeeW_\\xc7\\x967\\xf5\\x17\\xa0<5\\xf97\\xf1\\x0c\\x18s\\xdf~\\x82\\xea\\x0fPK\\x03\\x04\\x14\\x00\\x00\\x00\\x08\\x00\\x00\\x00?\\x00^\\xba\\xa7\\xd3w\\x01\\x00\\x00\\x10\\x03\\x00\\x00\\x10\\x00\\x00\\x00docProps/app.xml\\x9d\\x92\\xc1N\\xeb0\\x10E\\xf7|E\\xe4=uR!\\xf4T9F\\xa8\\x80X\\xf0D\\xa5\\x16X\\x1bg\\xd2X8\\xb6\\xe5\\x19\\xa2\\x96\\xaf\\xc7I\\xd5\\x90\\x02+\\xb2\\xba3su}2\\xb6\\xb8\\xda\\xb56\\xeb \\xa2\\xf1\\xaed\\xc5,g\\x198\\xed+\\xe3\\xb6%{\\xda\\xdc\\x9d\\xffc\\x19\\x92r\\x95\\xb2\\xdeA\\xc9\\xf6\\x80\\xecJ\\x9e\\x89U\\xf4\\x01\"\\x19\\xc0,%8,YC\\x14\\x16\\x9c\\xa3n\\xa0U8Kc\\x97&\\xb5\\x8f\\xad\\xa2T\\xc6-\\xf7um4\\xdcx\\xfd\\xde\\x82#>\\xcf\\xf3K\\x0e;\\x02WAu\\x1e\\xc6@vH\\\\t\\xf4\\xd7\\xd0\\xca\\xeb\\x9e\\x0f\\x9f7\\xfb\\x90\\xf2\\xa4\\xb8\\x0e\\xc1\\x1a\\xad(\\xfd\\xa4\\xfcot\\xf4\\xe8k\\xcanw\\x1a\\xac\\xe0\\xd3\\xa1HAk\\xd0\\xef\\xd1\\xd0^\\xe6\\x82OK\\xb1\\xd6\\xca\\xc22\\x05\\xcbZY\\x04\\xc1\\xbf\\x1a\\xe2\\x1eT\\xbf\\xb3\\x952\\x11\\xa5\\xe8h\\xd1\\x81&\\x1f34\\x1fiks\\x96\\xbd*\\x84\\x1e\\xa7d\\x9d\\x8aF9b\\x07\\xdb\\xa1\\x18\\xb4\\rHQ\\xbe\\xf8\\xf8\\x86\\r\\x00\\xa1\\xe0cs\\x90S\\xefT\\x9b\\x0bY\\x0c\\x86$N\\x8d|\\x04I\\xfa\\x14qc\\xc8\\x02>\\xd6+\\x15\\xe9\\x17\\xe2bJ<0\\xb0\\t\\xe3\\xba\\xe7+~\\xf0\\x1dO\\xfa\\x96\\xbd\\xf4mP.-\\x90\\x8f\\xea\\xc1\\xb87|\\n\\x1b\\x7f\\xa3\\x08\\x8e\\xeb<m\\x8au\\xa3\"T\\xe9\\x06\\xc6u\\x8f\\rq\\x9f\\xb8\\xa2\\xed\\xfd\\xcbF\\xb9-TG\\xcf\\xcfA\\x7f\\xf9\\xcf\\x87\\x07.\\x8b\\xf9,O\\xdfp\\xe7\\xc7\\x9e\\xe0_oY~\\x02PK\\x01\\x02\\x14\\x00\\x14\\x00\\x00\\x00\\x08\\x00\\x00\\x00?\\x00a]I:O\\x01\\x00\\x00\\x8f\\x04\\x00\\x00\\x13\\x00\\x00\\x00\\x00\\x00\\x00\\x00\\x00\\x00\\x00\\x00\\xb6\\x81\\x00\\x00\\x00\\x00[Content_Types].xmlPK\\x01\\x02\\x14\\x00\\x14\\x00\\x00\\x00\\x08\\x00\\x00\\x00?\\x00\\xf2\\x9fI\\xda\\xe9\\x00\\x00\\x00K\\x02\\x00\\x00\\x0b\\x00\\x00\\x00\\x00\\x00\\x00\\x00\\x00\\x00\\x00\\x00\\xb6\\x81\\x80\\x01\\x00\\x00_rels/.relsPK\\x01\\x02\\x14\\x00\\x14\\x00\\x00\\x00\\x08\\x00\\x00\\x00?\\x00Du[\\xf0\\xe8\\x00\\x00\\x00\\xb9\\x02\\x00\\x00\\x1a\\x00\\x00\\x00\\x00\\x00\\x00\\x00\\x00\\x00\\x00\\x00\\xb6\\x81\\x92\\x02\\x00\\x00xl/_rels/workbook.xml.relsPK\\x01\\x02\\x14\\x00\\x14\\x00\\x00\\x00\\x08\\x00\\x00\\x00?\\x00\\x9fg~b\\xea\\t\\x00\\x00J?\\x00\\x00\\x18\\x00\\x00\\x00\\x00\\x00\\x00\\x00\\x00\\x00\\x00\\x00\\xb6\\x81\\xb2\\x03\\x00\\x00xl/worksheets/sheet1.xmlPK\\x01\\x02\\x14\\x00\\x14\\x00\\x00\\x00\\x08\\x00\\x00\\x00?\\x00\\x83\\x18j%H\\x01\\x00\\x00&\\x02\\x00\\x00\\x0f\\x00\\x00\\x00\\x00\\x00\\x00\\x00\\x00\\x00\\x00\\x00\\xb6\\x81\\xd2\\r\\x00\\x00xl/workbook.xmlPK\\x01\\x02\\x14\\x00\\x14\\x00\\x00\\x00\\x08\\x00\\x00\\x00?\\x00\\xb6\\xdb\\x85t\\xfd\\x08\\x00\\x00\\x1d>\\x00\\x00\\x14\\x00\\x00\\x00\\x00\\x00\\x00\\x00\\x00\\x00\\x00\\x00\\xb6\\x81G\\x0f\\x00\\x00xl/sharedStrings.xmlPK\\x01\\x02\\x14\\x00\\x14\\x00\\x00\\x00\\x08\\x00\\x00\\x00?\\x00i\\xae\\x84\\x18\\xfb\\x01\\x00\\x00=\\x05\\x00\\x00\\r\\x00\\x00\\x00\\x00\\x00\\x00\\x00\\x00\\x00\\x00\\x00\\xb6\\x81v\\x18\\x00\\x00xl/styles.xmlPK\\x01\\x02\\x14\\x00\\x14\\x00\\x00\\x00\\x08\\x00\\x00\\x00?\\x00\\x18\\xfaFT\\xb0\\x05\\x00\\x00R\\x1b\\x00\\x00\\x13\\x00\\x00\\x00\\x00\\x00\\x00\\x00\\x00\\x00\\x00\\x00\\xb6\\x81\\x9c\\x1a\\x00\\x00xl/theme/theme1.xmlPK\\x01\\x02\\x14\\x00\\x14\\x00\\x00\\x00\\x08\\x00\\x00\\x00?\\x00\\x8b\\xd4\\xb9F%\\x01\\x00\\x00P\\x02\\x00\\x00\\x11\\x00\\x00\\x00\\x00\\x00\\x00\\x00\\x00\\x00\\x00\\x00\\xb6\\x81} \\x00\\x00docProps/core.xmlPK\\x01\\x02\\x14\\x00\\x14\\x00\\x00\\x00\\x08\\x00\\x00\\x00?\\x00^\\xba\\xa7\\xd3w\\x01\\x00\\x00\\x10\\x03\\x00\\x00\\x10\\x00\\x00\\x00\\x00\\x00\\x00\\x00\\x00\\x00\\x00\\x00\\xb6\\x81\\xd1!\\x00\\x00docProps/app.xmlPK\\x05\\x06\\x00\\x00\\x00\\x00\\n\\x00\\n\\x00\\x80\\x02\\x00\\x00v#\\x00\\x00\\x00\\x00'}"
            ]
          },
          "metadata": {
            "tags": []
          },
          "execution_count": 3
        }
      ]
    },
    {
      "cell_type": "code",
      "metadata": {
        "id": "rUiXEQMHsXl5"
      },
      "source": [
        "df=pd.read_excel('Killa.xlsx')"
      ],
      "execution_count": 136,
      "outputs": []
    },
    {
      "cell_type": "code",
      "metadata": {
        "id": "XDliOk8QuAn4",
        "outputId": "e0e4e285-2281-4485-f934-6527b7dbe7a6",
        "colab": {
          "base_uri": "https://localhost:8080/",
          "height": 204
        }
      },
      "source": [
        "df.head()"
      ],
      "execution_count": 137,
      "outputs": [
        {
          "output_type": "execute_result",
          "data": {
            "text/html": [
              "<div>\n",
              "<style scoped>\n",
              "    .dataframe tbody tr th:only-of-type {\n",
              "        vertical-align: middle;\n",
              "    }\n",
              "\n",
              "    .dataframe tbody tr th {\n",
              "        vertical-align: top;\n",
              "    }\n",
              "\n",
              "    .dataframe thead th {\n",
              "        text-align: right;\n",
              "    }\n",
              "</style>\n",
              "<table border=\"1\" class=\"dataframe\">\n",
              "  <thead>\n",
              "    <tr style=\"text-align: right;\">\n",
              "      <th></th>\n",
              "      <th>First Name</th>\n",
              "      <th>Last Name</th>\n",
              "      <th>transaction</th>\n",
              "    </tr>\n",
              "  </thead>\n",
              "  <tbody>\n",
              "    <tr>\n",
              "      <th>0</th>\n",
              "      <td>nooeukw</td>\n",
              "      <td>uuoaklowalb</td>\n",
              "      <td>{'tx_id': '5ed3d67b8723c11444c43283', 'tx_date...</td>\n",
              "    </tr>\n",
              "    <tr>\n",
              "      <th>1</th>\n",
              "      <td>angulbo</td>\n",
              "      <td>seagn</td>\n",
              "      <td>{'tx_id': '5ed3d67b8723c11444c43283', 'tx_date...</td>\n",
              "    </tr>\n",
              "    <tr>\n",
              "      <th>2</th>\n",
              "      <td>dukowi</td>\n",
              "      <td>eukloomja</td>\n",
              "      <td>{'tx_id': '5ed3d67b8723c11444c43283', 'tx_date...</td>\n",
              "    </tr>\n",
              "    <tr>\n",
              "      <th>3</th>\n",
              "      <td>ltuoawiob</td>\n",
              "      <td>uuilawobmn</td>\n",
              "      <td>{'tx_id': '5ed3d67b8723c11444c43283', 'tx_date...</td>\n",
              "    </tr>\n",
              "    <tr>\n",
              "      <th>4</th>\n",
              "      <td>nakuolo</td>\n",
              "      <td>donald</td>\n",
              "      <td>{'tx_id': '5ed3d67b8723c11444c43283', 'tx_date...</td>\n",
              "    </tr>\n",
              "  </tbody>\n",
              "</table>\n",
              "</div>"
            ],
            "text/plain": [
              "  First Name    Last Name                                        transaction\n",
              "0    nooeukw  uuoaklowalb  {'tx_id': '5ed3d67b8723c11444c43283', 'tx_date...\n",
              "1    angulbo        seagn  {'tx_id': '5ed3d67b8723c11444c43283', 'tx_date...\n",
              "2     dukowi    eukloomja  {'tx_id': '5ed3d67b8723c11444c43283', 'tx_date...\n",
              "3  ltuoawiob   uuilawobmn  {'tx_id': '5ed3d67b8723c11444c43283', 'tx_date...\n",
              "4    nakuolo       donald  {'tx_id': '5ed3d67b8723c11444c43283', 'tx_date..."
            ]
          },
          "metadata": {
            "tags": []
          },
          "execution_count": 137
        }
      ]
    },
    {
      "cell_type": "code",
      "metadata": {
        "id": "-9bIPFQQuB7a",
        "outputId": "690a1d5d-9e99-41e5-eadc-01a8fc3453f3",
        "colab": {
          "base_uri": "https://localhost:8080/",
          "height": 102
        }
      },
      "source": [
        "print(df.shape)\n",
        "print(df.isna().sum())"
      ],
      "execution_count": 138,
      "outputs": [
        {
          "output_type": "stream",
          "text": [
            "(127, 3)\n",
            "First Name     0\n",
            "Last Name      0\n",
            "transaction    0\n",
            "dtype: int64\n"
          ],
          "name": "stdout"
        }
      ]
    },
    {
      "cell_type": "code",
      "metadata": {
        "id": "4sBd-A8Cuc_w"
      },
      "source": [
        "df.transaction=df.transaction.map(eval)"
      ],
      "execution_count": 139,
      "outputs": []
    },
    {
      "cell_type": "code",
      "metadata": {
        "id": "By10tCWNw8fK",
        "outputId": "71add9e5-d1b2-4c7d-c358-89461f7e15e8",
        "colab": {
          "base_uri": "https://localhost:8080/",
          "height": 34
        }
      },
      "source": [
        "\n",
        "type(df.transaction)"
      ],
      "execution_count": 140,
      "outputs": [
        {
          "output_type": "execute_result",
          "data": {
            "text/plain": [
              "pandas.core.series.Series"
            ]
          },
          "metadata": {
            "tags": []
          },
          "execution_count": 140
        }
      ]
    },
    {
      "cell_type": "markdown",
      "metadata": {
        "id": "dxWNLHAzxMS5"
      },
      "source": [
        ""
      ]
    },
    {
      "cell_type": "code",
      "metadata": {
        "id": "705KrtC3wzMt"
      },
      "source": [
        "tx_df=pd.json_normalize(df.transaction)"
      ],
      "execution_count": 141,
      "outputs": []
    },
    {
      "cell_type": "code",
      "metadata": {
        "id": "z37WRiBnw4AD",
        "outputId": "60367d45-b20e-4008-dfdc-4c26c57d124e",
        "colab": {
          "base_uri": "https://localhost:8080/",
          "height": 34
        }
      },
      "source": [
        "type(tx_df)"
      ],
      "execution_count": 142,
      "outputs": [
        {
          "output_type": "execute_result",
          "data": {
            "text/plain": [
              "pandas.core.frame.DataFrame"
            ]
          },
          "metadata": {
            "tags": []
          },
          "execution_count": 142
        }
      ]
    },
    {
      "cell_type": "code",
      "metadata": {
        "id": "LXvGNCtExU7P",
        "outputId": "7b490289-f16f-45b6-afa3-3917823e1b2f",
        "colab": {
          "base_uri": "https://localhost:8080/",
          "height": 80
        }
      },
      "source": [
        "tx_df.sample()"
      ],
      "execution_count": 143,
      "outputs": [
        {
          "output_type": "execute_result",
          "data": {
            "text/html": [
              "<div>\n",
              "<style scoped>\n",
              "    .dataframe tbody tr th:only-of-type {\n",
              "        vertical-align: middle;\n",
              "    }\n",
              "\n",
              "    .dataframe tbody tr th {\n",
              "        vertical-align: top;\n",
              "    }\n",
              "\n",
              "    .dataframe thead th {\n",
              "        text-align: right;\n",
              "    }\n",
              "</style>\n",
              "<table border=\"1\" class=\"dataframe\">\n",
              "  <thead>\n",
              "    <tr style=\"text-align: right;\">\n",
              "      <th></th>\n",
              "      <th>tx_id</th>\n",
              "      <th>tx_date</th>\n",
              "      <th>tx_amount</th>\n",
              "      <th>tx_mode</th>\n",
              "      <th>tx_channel</th>\n",
              "      <th>bank_name</th>\n",
              "      <th>dob</th>\n",
              "    </tr>\n",
              "  </thead>\n",
              "  <tbody>\n",
              "    <tr>\n",
              "      <th>16</th>\n",
              "      <td>5ed3d67b8723c11444c43283</td>\n",
              "      <td>2020-06-13T05:28:47.543000Z</td>\n",
              "      <td>6192</td>\n",
              "      <td>Debit</td>\n",
              "      <td>web</td>\n",
              "      <td>QBank</td>\n",
              "      <td>[n/a]</td>\n",
              "    </tr>\n",
              "  </tbody>\n",
              "</table>\n",
              "</div>"
            ],
            "text/plain": [
              "                       tx_id                      tx_date  ...  bank_name    dob\n",
              "16  5ed3d67b8723c11444c43283  2020-06-13T05:28:47.543000Z  ...      QBank  [n/a]\n",
              "\n",
              "[1 rows x 7 columns]"
            ]
          },
          "metadata": {
            "tags": []
          },
          "execution_count": 143
        }
      ]
    },
    {
      "cell_type": "code",
      "metadata": {
        "id": "VVG6NYDJxeTO"
      },
      "source": [
        "df.drop('transaction',1,inplace=True)"
      ],
      "execution_count": 144,
      "outputs": []
    },
    {
      "cell_type": "code",
      "metadata": {
        "id": "MGrqmfq1NGh4",
        "outputId": "f4bef17e-1466-4001-ac51-067b48e8e6a9",
        "colab": {
          "base_uri": "https://localhost:8080/",
          "height": 34
        }
      },
      "source": [
        "df.columns"
      ],
      "execution_count": 145,
      "outputs": [
        {
          "output_type": "execute_result",
          "data": {
            "text/plain": [
              "Index(['First Name', 'Last Name'], dtype='object')"
            ]
          },
          "metadata": {
            "tags": []
          },
          "execution_count": 145
        }
      ]
    },
    {
      "cell_type": "code",
      "metadata": {
        "id": "hkGbR6F0NIhI"
      },
      "source": [
        "df2=pd.concat([df,tx_df],1)"
      ],
      "execution_count": 146,
      "outputs": []
    },
    {
      "cell_type": "code",
      "metadata": {
        "id": "Z3PhWywSOJGo",
        "outputId": "e0bb66de-0636-4dca-ea63-5d772b10cb06",
        "colab": {
          "base_uri": "https://localhost:8080/",
          "height": 80
        }
      },
      "source": [
        "df2.sample()"
      ],
      "execution_count": 147,
      "outputs": [
        {
          "output_type": "execute_result",
          "data": {
            "text/html": [
              "<div>\n",
              "<style scoped>\n",
              "    .dataframe tbody tr th:only-of-type {\n",
              "        vertical-align: middle;\n",
              "    }\n",
              "\n",
              "    .dataframe tbody tr th {\n",
              "        vertical-align: top;\n",
              "    }\n",
              "\n",
              "    .dataframe thead th {\n",
              "        text-align: right;\n",
              "    }\n",
              "</style>\n",
              "<table border=\"1\" class=\"dataframe\">\n",
              "  <thead>\n",
              "    <tr style=\"text-align: right;\">\n",
              "      <th></th>\n",
              "      <th>First Name</th>\n",
              "      <th>Last Name</th>\n",
              "      <th>tx_id</th>\n",
              "      <th>tx_date</th>\n",
              "      <th>tx_amount</th>\n",
              "      <th>tx_mode</th>\n",
              "      <th>tx_channel</th>\n",
              "      <th>bank_name</th>\n",
              "      <th>dob</th>\n",
              "    </tr>\n",
              "  </thead>\n",
              "  <tbody>\n",
              "    <tr>\n",
              "      <th>60</th>\n",
              "      <td>uwoltboai</td>\n",
              "      <td>o afsloeumidoluyalna</td>\n",
              "      <td>5ed3d67b8723c11444c43283</td>\n",
              "      <td>2020-06-13T05:28:47.543000Z</td>\n",
              "      <td>6192</td>\n",
              "      <td>Debit</td>\n",
              "      <td>web</td>\n",
              "      <td>QBank</td>\n",
              "      <td>[n/a]</td>\n",
              "    </tr>\n",
              "  </tbody>\n",
              "</table>\n",
              "</div>"
            ],
            "text/plain": [
              "   First Name             Last Name  ... bank_name    dob\n",
              "60  uwoltboai  o afsloeumidoluyalna  ...     QBank  [n/a]\n",
              "\n",
              "[1 rows x 9 columns]"
            ]
          },
          "metadata": {
            "tags": []
          },
          "execution_count": 147
        }
      ]
    },
    {
      "cell_type": "markdown",
      "metadata": {
        "id": "gFpddzsYPLaf"
      },
      "source": [
        ""
      ]
    },
    {
      "cell_type": "markdown",
      "metadata": {
        "id": "iP3W8LMbPLtm"
      },
      "source": [
        "Now Treating the datetime column"
      ]
    },
    {
      "cell_type": "code",
      "metadata": {
        "id": "rFncwhz2OKvK",
        "outputId": "4feccbfb-f08f-4b1d-bbd1-7218f8d8bff2",
        "colab": {
          "base_uri": "https://localhost:8080/",
          "height": 51
        }
      },
      "source": [
        "print(type(df2.tx_date))\n",
        "print(type(df2.dob))"
      ],
      "execution_count": 148,
      "outputs": [
        {
          "output_type": "stream",
          "text": [
            "<class 'pandas.core.series.Series'>\n",
            "<class 'pandas.core.series.Series'>\n"
          ],
          "name": "stdout"
        }
      ]
    },
    {
      "cell_type": "code",
      "metadata": {
        "id": "1uEVGi8jPY90",
        "outputId": "a1b7ed07-0384-45a4-84ee-05a6c826928e",
        "colab": {
          "base_uri": "https://localhost:8080/",
          "height": 187
        }
      },
      "source": [
        "df2.dtypes"
      ],
      "execution_count": 149,
      "outputs": [
        {
          "output_type": "execute_result",
          "data": {
            "text/plain": [
              "First Name    object\n",
              "Last Name     object\n",
              "tx_id         object\n",
              "tx_date       object\n",
              "tx_amount      int64\n",
              "tx_mode       object\n",
              "tx_channel    object\n",
              "bank_name     object\n",
              "dob           object\n",
              "dtype: object"
            ]
          },
          "metadata": {
            "tags": []
          },
          "execution_count": 149
        }
      ]
    },
    {
      "cell_type": "markdown",
      "metadata": {
        "id": "R97wdBMmPoCv"
      },
      "source": [
        "converting date objects to datetime"
      ]
    },
    {
      "cell_type": "code",
      "metadata": {
        "id": "rMaMeghBPkFn",
        "outputId": "24ce749d-507e-42ce-89fc-809f55b6bd53",
        "colab": {
          "base_uri": "https://localhost:8080/",
          "height": 221
        }
      },
      "source": [
        "df2.dob"
      ],
      "execution_count": 150,
      "outputs": [
        {
          "output_type": "execute_result",
          "data": {
            "text/plain": [
              "0      [1992-11-10 00:00:00]\n",
              "1                      [n/a]\n",
              "2      [1992-01-01 00:00:00]\n",
              "3      [1981-01-07 00:00:00]\n",
              "4                      [n/a]\n",
              "               ...          \n",
              "122                    [n/a]\n",
              "123                    [n/a]\n",
              "124                    [n/a]\n",
              "125                    [n/a]\n",
              "126                    [n/a]\n",
              "Name: dob, Length: 127, dtype: object"
            ]
          },
          "metadata": {
            "tags": []
          },
          "execution_count": 150
        }
      ]
    },
    {
      "cell_type": "code",
      "metadata": {
        "id": "I7ucw3cdQOVS"
      },
      "source": [
        "df2['dob']=df2['dob'].str.get(0)"
      ],
      "execution_count": 151,
      "outputs": []
    },
    {
      "cell_type": "code",
      "metadata": {
        "id": "ySq0OVNiQixk"
      },
      "source": [
        "df2.replace('n/a',np.NaN,inplace=True)"
      ],
      "execution_count": 152,
      "outputs": []
    },
    {
      "cell_type": "code",
      "metadata": {
        "id": "eigzo0L6Q8-b",
        "outputId": "c1c4cbc3-c712-4229-cf56-8957d052add4",
        "colab": {
          "base_uri": "https://localhost:8080/",
          "height": 111
        }
      },
      "source": [
        "df2.head(2)"
      ],
      "execution_count": 153,
      "outputs": [
        {
          "output_type": "execute_result",
          "data": {
            "text/html": [
              "<div>\n",
              "<style scoped>\n",
              "    .dataframe tbody tr th:only-of-type {\n",
              "        vertical-align: middle;\n",
              "    }\n",
              "\n",
              "    .dataframe tbody tr th {\n",
              "        vertical-align: top;\n",
              "    }\n",
              "\n",
              "    .dataframe thead th {\n",
              "        text-align: right;\n",
              "    }\n",
              "</style>\n",
              "<table border=\"1\" class=\"dataframe\">\n",
              "  <thead>\n",
              "    <tr style=\"text-align: right;\">\n",
              "      <th></th>\n",
              "      <th>First Name</th>\n",
              "      <th>Last Name</th>\n",
              "      <th>tx_id</th>\n",
              "      <th>tx_date</th>\n",
              "      <th>tx_amount</th>\n",
              "      <th>tx_mode</th>\n",
              "      <th>tx_channel</th>\n",
              "      <th>bank_name</th>\n",
              "      <th>dob</th>\n",
              "    </tr>\n",
              "  </thead>\n",
              "  <tbody>\n",
              "    <tr>\n",
              "      <th>0</th>\n",
              "      <td>nooeukw</td>\n",
              "      <td>uuoaklowalb</td>\n",
              "      <td>5ed3d67b8723c11444c43283</td>\n",
              "      <td>2020-06-13T05:28:47.543000Z</td>\n",
              "      <td>6192</td>\n",
              "      <td>Debit</td>\n",
              "      <td>web</td>\n",
              "      <td>QBank</td>\n",
              "      <td>1992-11-10 00:00:00</td>\n",
              "    </tr>\n",
              "    <tr>\n",
              "      <th>1</th>\n",
              "      <td>angulbo</td>\n",
              "      <td>seagn</td>\n",
              "      <td>5ed3d67b8723c11444c43283</td>\n",
              "      <td>2020-06-12T20:22:38.986000Z</td>\n",
              "      <td>38445</td>\n",
              "      <td>Debit</td>\n",
              "      <td>mobile</td>\n",
              "      <td>ABank</td>\n",
              "      <td>NaN</td>\n",
              "    </tr>\n",
              "  </tbody>\n",
              "</table>\n",
              "</div>"
            ],
            "text/plain": [
              "  First Name    Last Name  ... bank_name                  dob\n",
              "0    nooeukw  uuoaklowalb  ...     QBank  1992-11-10 00:00:00\n",
              "1    angulbo        seagn  ...     ABank                  NaN\n",
              "\n",
              "[2 rows x 9 columns]"
            ]
          },
          "metadata": {
            "tags": []
          },
          "execution_count": 153
        }
      ]
    },
    {
      "cell_type": "code",
      "metadata": {
        "id": "wWTnnPCyYwfq"
      },
      "source": [
        "df2.fillna(0,inplace=True)"
      ],
      "execution_count": 154,
      "outputs": []
    },
    {
      "cell_type": "code",
      "metadata": {
        "id": "M5IjerVcRiMB"
      },
      "source": [
        "df2['tx_date']=pd.to_datetime(df2['tx_date'])\n",
        "df2['dob']=pd.to_datetime(df2['dob'])\n"
      ],
      "execution_count": 157,
      "outputs": []
    },
    {
      "cell_type": "code",
      "metadata": {
        "id": "E1503uzERxhZ",
        "outputId": "b8ea90f7-b799-40ae-e846-e77631405778",
        "colab": {
          "base_uri": "https://localhost:8080/",
          "height": 187
        }
      },
      "source": [
        "df2.dtypes"
      ],
      "execution_count": 158,
      "outputs": [
        {
          "output_type": "execute_result",
          "data": {
            "text/plain": [
              "First Name            object\n",
              "Last Name             object\n",
              "tx_id                 object\n",
              "tx_date       datetime64[ns]\n",
              "tx_amount              int64\n",
              "tx_mode               object\n",
              "tx_channel            object\n",
              "bank_name             object\n",
              "dob           datetime64[ns]\n",
              "dtype: object"
            ]
          },
          "metadata": {
            "tags": []
          },
          "execution_count": 158
        }
      ]
    },
    {
      "cell_type": "code",
      "metadata": {
        "id": "fYFYvQsyTgmu",
        "outputId": "7e9e01c0-ec75-4ea5-d9b1-f8d610253d4c",
        "colab": {
          "base_uri": "https://localhost:8080/",
          "height": 204
        }
      },
      "source": [
        "df2.head()"
      ],
      "execution_count": 159,
      "outputs": [
        {
          "output_type": "execute_result",
          "data": {
            "text/html": [
              "<div>\n",
              "<style scoped>\n",
              "    .dataframe tbody tr th:only-of-type {\n",
              "        vertical-align: middle;\n",
              "    }\n",
              "\n",
              "    .dataframe tbody tr th {\n",
              "        vertical-align: top;\n",
              "    }\n",
              "\n",
              "    .dataframe thead th {\n",
              "        text-align: right;\n",
              "    }\n",
              "</style>\n",
              "<table border=\"1\" class=\"dataframe\">\n",
              "  <thead>\n",
              "    <tr style=\"text-align: right;\">\n",
              "      <th></th>\n",
              "      <th>First Name</th>\n",
              "      <th>Last Name</th>\n",
              "      <th>tx_id</th>\n",
              "      <th>tx_date</th>\n",
              "      <th>tx_amount</th>\n",
              "      <th>tx_mode</th>\n",
              "      <th>tx_channel</th>\n",
              "      <th>bank_name</th>\n",
              "      <th>dob</th>\n",
              "    </tr>\n",
              "  </thead>\n",
              "  <tbody>\n",
              "    <tr>\n",
              "      <th>0</th>\n",
              "      <td>nooeukw</td>\n",
              "      <td>uuoaklowalb</td>\n",
              "      <td>5ed3d67b8723c11444c43283</td>\n",
              "      <td>2020-06-13</td>\n",
              "      <td>6192</td>\n",
              "      <td>Debit</td>\n",
              "      <td>web</td>\n",
              "      <td>QBank</td>\n",
              "      <td>1992-11-10</td>\n",
              "    </tr>\n",
              "    <tr>\n",
              "      <th>1</th>\n",
              "      <td>angulbo</td>\n",
              "      <td>seagn</td>\n",
              "      <td>5ed3d67b8723c11444c43283</td>\n",
              "      <td>2020-06-12</td>\n",
              "      <td>38445</td>\n",
              "      <td>Debit</td>\n",
              "      <td>mobile</td>\n",
              "      <td>ABank</td>\n",
              "      <td>1970-01-01</td>\n",
              "    </tr>\n",
              "    <tr>\n",
              "      <th>2</th>\n",
              "      <td>dukowi</td>\n",
              "      <td>eukloomja</td>\n",
              "      <td>5ed3d67b8723c11444c43283</td>\n",
              "      <td>2020-06-13</td>\n",
              "      <td>29627</td>\n",
              "      <td>Debit</td>\n",
              "      <td>mobile</td>\n",
              "      <td>GBank</td>\n",
              "      <td>1992-01-01</td>\n",
              "    </tr>\n",
              "    <tr>\n",
              "      <th>3</th>\n",
              "      <td>ltuoawiob</td>\n",
              "      <td>uuilawobmn</td>\n",
              "      <td>5ed3d67b8723c11444c43283</td>\n",
              "      <td>2020-06-13</td>\n",
              "      <td>27791</td>\n",
              "      <td>Debit</td>\n",
              "      <td>web</td>\n",
              "      <td>KBank</td>\n",
              "      <td>1981-01-07</td>\n",
              "    </tr>\n",
              "    <tr>\n",
              "      <th>4</th>\n",
              "      <td>nakuolo</td>\n",
              "      <td>donald</td>\n",
              "      <td>5ed3d67b8723c11444c43283</td>\n",
              "      <td>2020-06-13</td>\n",
              "      <td>6192</td>\n",
              "      <td>Debit</td>\n",
              "      <td>web</td>\n",
              "      <td>QBank</td>\n",
              "      <td>1970-01-01</td>\n",
              "    </tr>\n",
              "  </tbody>\n",
              "</table>\n",
              "</div>"
            ],
            "text/plain": [
              "  First Name    Last Name  ... bank_name        dob\n",
              "0    nooeukw  uuoaklowalb  ...     QBank 1992-11-10\n",
              "1    angulbo        seagn  ...     ABank 1970-01-01\n",
              "2     dukowi    eukloomja  ...     GBank 1992-01-01\n",
              "3  ltuoawiob   uuilawobmn  ...     KBank 1981-01-07\n",
              "4    nakuolo       donald  ...     QBank 1970-01-01\n",
              "\n",
              "[5 rows x 9 columns]"
            ]
          },
          "metadata": {
            "tags": []
          },
          "execution_count": 159
        }
      ]
    },
    {
      "cell_type": "code",
      "metadata": {
        "id": "WT5HDEhcXFhr"
      },
      "source": [
        "df2['year']=pd.DatetimeIndex(df2['dob']).year"
      ],
      "execution_count": 160,
      "outputs": []
    },
    {
      "cell_type": "code",
      "metadata": {
        "id": "NsDvsNM_ZMJB",
        "outputId": "3a9f5263-5f31-4925-95e2-09d78996900c",
        "colab": {
          "base_uri": "https://localhost:8080/",
          "height": 80
        }
      },
      "source": [
        "df2.sample()"
      ],
      "execution_count": 161,
      "outputs": [
        {
          "output_type": "execute_result",
          "data": {
            "text/html": [
              "<div>\n",
              "<style scoped>\n",
              "    .dataframe tbody tr th:only-of-type {\n",
              "        vertical-align: middle;\n",
              "    }\n",
              "\n",
              "    .dataframe tbody tr th {\n",
              "        vertical-align: top;\n",
              "    }\n",
              "\n",
              "    .dataframe thead th {\n",
              "        text-align: right;\n",
              "    }\n",
              "</style>\n",
              "<table border=\"1\" class=\"dataframe\">\n",
              "  <thead>\n",
              "    <tr style=\"text-align: right;\">\n",
              "      <th></th>\n",
              "      <th>First Name</th>\n",
              "      <th>Last Name</th>\n",
              "      <th>tx_id</th>\n",
              "      <th>tx_date</th>\n",
              "      <th>tx_amount</th>\n",
              "      <th>tx_mode</th>\n",
              "      <th>tx_channel</th>\n",
              "      <th>bank_name</th>\n",
              "      <th>dob</th>\n",
              "      <th>year</th>\n",
              "    </tr>\n",
              "  </thead>\n",
              "  <tbody>\n",
              "    <tr>\n",
              "      <th>96</th>\n",
              "      <td>weblaaab</td>\n",
              "      <td>haizboc</td>\n",
              "      <td>5ed3d67b8723c11444c43283</td>\n",
              "      <td>2020-06-13</td>\n",
              "      <td>6192</td>\n",
              "      <td>Debit</td>\n",
              "      <td>web</td>\n",
              "      <td>QBank</td>\n",
              "      <td>1970-01-01</td>\n",
              "      <td>1970</td>\n",
              "    </tr>\n",
              "  </tbody>\n",
              "</table>\n",
              "</div>"
            ],
            "text/plain": [
              "   First Name Last Name                     tx_id  ... bank_name        dob  year\n",
              "96   weblaaab   haizboc  5ed3d67b8723c11444c43283  ...     QBank 1970-01-01  1970\n",
              "\n",
              "[1 rows x 10 columns]"
            ]
          },
          "metadata": {
            "tags": []
          },
          "execution_count": 161
        }
      ]
    },
    {
      "cell_type": "code",
      "metadata": {
        "id": "-YnfCjliZOYE",
        "outputId": "b1370a75-378a-47e8-8cbd-1b25a70eec22",
        "colab": {
          "base_uri": "https://localhost:8080/",
          "height": 80
        }
      },
      "source": [
        "year=datetime.now().year\n",
        "df2['age']=year-df2.year\n",
        "df2.drop('dob',1,inplace=True)\n",
        "df2.sample()"
      ],
      "execution_count": 163,
      "outputs": [
        {
          "output_type": "execute_result",
          "data": {
            "text/html": [
              "<div>\n",
              "<style scoped>\n",
              "    .dataframe tbody tr th:only-of-type {\n",
              "        vertical-align: middle;\n",
              "    }\n",
              "\n",
              "    .dataframe tbody tr th {\n",
              "        vertical-align: top;\n",
              "    }\n",
              "\n",
              "    .dataframe thead th {\n",
              "        text-align: right;\n",
              "    }\n",
              "</style>\n",
              "<table border=\"1\" class=\"dataframe\">\n",
              "  <thead>\n",
              "    <tr style=\"text-align: right;\">\n",
              "      <th></th>\n",
              "      <th>First Name</th>\n",
              "      <th>Last Name</th>\n",
              "      <th>tx_id</th>\n",
              "      <th>tx_date</th>\n",
              "      <th>tx_amount</th>\n",
              "      <th>tx_mode</th>\n",
              "      <th>tx_channel</th>\n",
              "      <th>bank_name</th>\n",
              "      <th>year</th>\n",
              "      <th>age</th>\n",
              "    </tr>\n",
              "  </thead>\n",
              "  <tbody>\n",
              "    <tr>\n",
              "      <th>77</th>\n",
              "      <td>uasdyn</td>\n",
              "      <td>dknehei</td>\n",
              "      <td>5ed3d67b8723c11444c43283</td>\n",
              "      <td>2020-06-12</td>\n",
              "      <td>38445</td>\n",
              "      <td>Debit</td>\n",
              "      <td>mobile</td>\n",
              "      <td>ABank</td>\n",
              "      <td>1970</td>\n",
              "      <td>50</td>\n",
              "    </tr>\n",
              "  </tbody>\n",
              "</table>\n",
              "</div>"
            ],
            "text/plain": [
              "   First Name Last Name                     tx_id  ... bank_name  year age\n",
              "77     uasdyn   dknehei  5ed3d67b8723c11444c43283  ...     ABank  1970  50\n",
              "\n",
              "[1 rows x 10 columns]"
            ]
          },
          "metadata": {
            "tags": []
          },
          "execution_count": 163
        }
      ]
    },
    {
      "cell_type": "code",
      "metadata": {
        "id": "doQYrCA4ZyCn"
      },
      "source": [
        "df2.drop('year',1,inplace=True)"
      ],
      "execution_count": 164,
      "outputs": []
    },
    {
      "cell_type": "code",
      "metadata": {
        "id": "wxpLwJtIZ9I8",
        "outputId": "27d56769-bffa-47fb-e8cb-6466ed9bb093",
        "colab": {
          "base_uri": "https://localhost:8080/",
          "height": 204
        }
      },
      "source": [
        "q1=pd.DataFrame(df2['age'].value_counts().head(5)).reset_index()\n",
        "q1.columns=['age','counts']\n",
        "q1"
      ],
      "execution_count": 166,
      "outputs": [
        {
          "output_type": "execute_result",
          "data": {
            "text/html": [
              "<div>\n",
              "<style scoped>\n",
              "    .dataframe tbody tr th:only-of-type {\n",
              "        vertical-align: middle;\n",
              "    }\n",
              "\n",
              "    .dataframe tbody tr th {\n",
              "        vertical-align: top;\n",
              "    }\n",
              "\n",
              "    .dataframe thead th {\n",
              "        text-align: right;\n",
              "    }\n",
              "</style>\n",
              "<table border=\"1\" class=\"dataframe\">\n",
              "  <thead>\n",
              "    <tr style=\"text-align: right;\">\n",
              "      <th></th>\n",
              "      <th>age</th>\n",
              "      <th>counts</th>\n",
              "    </tr>\n",
              "  </thead>\n",
              "  <tbody>\n",
              "    <tr>\n",
              "      <th>0</th>\n",
              "      <td>50</td>\n",
              "      <td>82</td>\n",
              "    </tr>\n",
              "    <tr>\n",
              "      <th>1</th>\n",
              "      <td>28</td>\n",
              "      <td>6</td>\n",
              "    </tr>\n",
              "    <tr>\n",
              "      <th>2</th>\n",
              "      <td>40</td>\n",
              "      <td>5</td>\n",
              "    </tr>\n",
              "    <tr>\n",
              "      <th>3</th>\n",
              "      <td>44</td>\n",
              "      <td>4</td>\n",
              "    </tr>\n",
              "    <tr>\n",
              "      <th>4</th>\n",
              "      <td>31</td>\n",
              "      <td>4</td>\n",
              "    </tr>\n",
              "  </tbody>\n",
              "</table>\n",
              "</div>"
            ],
            "text/plain": [
              "   age  counts\n",
              "0   50      82\n",
              "1   28       6\n",
              "2   40       5\n",
              "3   44       4\n",
              "4   31       4"
            ]
          },
          "metadata": {
            "tags": []
          },
          "execution_count": 166
        }
      ]
    },
    {
      "cell_type": "code",
      "metadata": {
        "id": "79GtPwpVaexq",
        "outputId": "58b0b9d3-5c7b-45ac-96cf-d597a7da16df",
        "colab": {
          "base_uri": "https://localhost:8080/",
          "height": 68
        }
      },
      "source": [
        "lol=df2['tx_channel'].value_counts()\n",
        "lol"
      ],
      "execution_count": 167,
      "outputs": [
        {
          "output_type": "execute_result",
          "data": {
            "text/plain": [
              "mobile    64\n",
              "web       63\n",
              "Name: tx_channel, dtype: int64"
            ]
          },
          "metadata": {
            "tags": []
          },
          "execution_count": 167
        }
      ]
    },
    {
      "cell_type": "code",
      "metadata": {
        "id": "DW63BKQWapy_",
        "outputId": "6875d892-872a-453a-8eed-d44f7b812f06",
        "colab": {
          "base_uri": "https://localhost:8080/",
          "height": 411
        }
      },
      "source": [
        "fig=plt.figure(figsize=(10,7))\n",
        "plt.pie(lol,labels=['mobile','web'],autopct='%1.1f%%', shadow=True,startangle=90)\n",
        "plt.legend()\n",
        "plt.show()"
      ],
      "execution_count": 168,
      "outputs": [
        {
          "output_type": "display_data",
          "data": {
            "image/png": "[encoded data removed]",
            "text/plain": [
              "<Figure size 720x504 with 1 Axes>"
            ]
          },
          "metadata": {
            "tags": []
          }
        }
      ]
    },
    {
      "cell_type": "code",
      "metadata": {
        "id": "m9POUTp5asmN"
      },
      "source": [
        "df2.to_excel('power.xlsx')\n"
      ],
      "execution_count": 176,
      "outputs": []
    },
    {
      "cell_type": "code",
      "metadata": {
        "id": "zlMqmS34azRG",
        "outputId": "6cbd2826-7821-45d3-f4b6-c2e327f0771d",
        "colab": {
          "base_uri": "https://localhost:8080/",
          "height": 17
        }
      },
      "source": [
        "files.download('power.xlsx')"
      ],
      "execution_count": 177,
      "outputs": [
        {
          "output_type": "display_data",
          "data": {
            "application/javascript": [
              "\n",
              "    async function download(id, filename, size) {\n",
              "      if (!google.colab.kernel.accessAllowed) {\n",
              "        return;\n",
              "      }\n",
              "      const div = document.createElement('div');\n",
              "      const label = document.createElement('label');\n",
              "      label.textContent = `Downloading \"${filename}\": `;\n",
              "      div.appendChild(label);\n",
              "      const progress = document.createElement('progress');\n",
              "      progress.max = size;\n",
              "      div.appendChild(progress);\n",
              "      document.body.appendChild(div);\n",
              "\n",
              "      const buffers = [];\n",
              "      let downloaded = 0;\n",
              "\n",
              "      const channel = await google.colab.kernel.comms.open(id);\n",
              "      // Send a message to notify the kernel that we're ready.\n",
              "      channel.send({})\n",
              "\n",
              "      for await (const message of channel.messages) {\n",
              "        // Send a message to notify the kernel that we're ready.\n",
              "        channel.send({})\n",
              "        if (message.buffers) {\n",
              "          for (const buffer of message.buffers) {\n",
              "            buffers.push(buffer);\n",
              "            downloaded += buffer.byteLength;\n",
              "            progress.value = downloaded;\n",
              "          }\n",
              "        }\n",
              "      }\n",
              "      const blob = new Blob(buffers, {type: 'application/binary'});\n",
              "      const a = document.createElement('a');\n",
              "      a.href = window.URL.createObjectURL(blob);\n",
              "      a.download = filename;\n",
              "      div.appendChild(a);\n",
              "      a.click();\n",
              "      div.remove();\n",
              "    }\n",
              "  "
            ],
            "text/plain": [
              "<IPython.core.display.Javascript object>"
            ]
          },
          "metadata": {
            "tags": []
          }
        },
        {
          "output_type": "display_data",
          "data": {
            "application/javascript": [
              "download(\"download_c44133bf-12f3-439a-8080-21cc461db117\", \"power.xlsx\", 11982)"
            ],
            "text/plain": [
              "<IPython.core.display.Javascript object>"
            ]
          },
          "metadata": {
            "tags": []
          }
        }
      ]
    },
    {
      "cell_type": "code",
      "metadata": {
        "id": "ohkdIvt0a2os"
      },
      "source": [
        ""
      ],
      "execution_count": null,
      "outputs": []
    }
  ]
}